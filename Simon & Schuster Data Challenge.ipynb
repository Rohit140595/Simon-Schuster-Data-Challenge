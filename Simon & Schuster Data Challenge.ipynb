{
 "cells": [
  {
   "cell_type": "code",
   "execution_count": 1,
   "metadata": {},
   "outputs": [
    {
     "name": "stderr",
     "output_type": "stream",
     "text": [
      "C:\\ProgramData\\Anaconda3\\lib\\site-packages\\statsmodels\\tools\\_testing.py:19: FutureWarning: pandas.util.testing is deprecated. Use the functions in the public API at pandas.testing instead.\n",
      "  import pandas.util.testing as tm\n"
     ]
    }
   ],
   "source": [
    "import pandas as pd\n",
    "import numpy as np\n",
    "import seaborn as sns\n",
    "import matplotlib.pyplot as plt\n",
    "%matplotlib inline"
   ]
  },
  {
   "cell_type": "code",
   "execution_count": 2,
   "metadata": {},
   "outputs": [],
   "source": [
    "data = pd.read_csv(\"C:/Users/sonje/Desktop/simon & schuster/sample_data.csv\",parse_dates = True)\n",
    "pd.set_option('display.max_columns', None)\n",
    "pd.set_option('display.max_rows', None)"
   ]
  },
  {
   "cell_type": "code",
   "execution_count": 3,
   "metadata": {},
   "outputs": [
    {
     "name": "stdout",
     "output_type": "stream",
     "text": [
      "<class 'pandas.core.frame.DataFrame'>\n",
      "RangeIndex: 6539 entries, 0 to 6538\n",
      "Columns: 106 entries, entity to appledistributor\n",
      "dtypes: float64(4), int64(91), object(11)\n",
      "memory usage: 5.3+ MB\n"
     ]
    }
   ],
   "source": [
    "data.info()"
   ]
  },
  {
   "cell_type": "code",
   "execution_count": 4,
   "metadata": {},
   "outputs": [
    {
     "data": {
      "text/html": [
       "<div>\n",
       "<style scoped>\n",
       "    .dataframe tbody tr th:only-of-type {\n",
       "        vertical-align: middle;\n",
       "    }\n",
       "\n",
       "    .dataframe tbody tr th {\n",
       "        vertical-align: top;\n",
       "    }\n",
       "\n",
       "    .dataframe thead th {\n",
       "        text-align: right;\n",
       "    }\n",
       "</style>\n",
       "<table border=\"1\" class=\"dataframe\">\n",
       "  <thead>\n",
       "    <tr style=\"text-align: right;\">\n",
       "      <th></th>\n",
       "      <th>fromdate</th>\n",
       "      <th>titlecount</th>\n",
       "      <th>todate</th>\n",
       "      <th>amazontotalreviews</th>\n",
       "      <th>minappleprice</th>\n",
       "      <th>amazontotalrevenue</th>\n",
       "      <th>accruedpreordersoldunits</th>\n",
       "      <th>amazonlumpedpreordersubscriptionrevenue</th>\n",
       "      <th>preordersalesrevenue</th>\n",
       "      <th>foundatamazon</th>\n",
       "      <th>barnesandnobleaccruedpreorderrevenue</th>\n",
       "      <th>amazonpreordersubscriptionunits</th>\n",
       "      <th>amazonlumpedpreordersalesrevenue</th>\n",
       "      <th>foundatbarnesandnoble</th>\n",
       "      <th>maxprice</th>\n",
       "      <th>lumpedpreordersubscriptionunits</th>\n",
       "      <th>applepreorderrevenue</th>\n",
       "      <th>amazontotalunits</th>\n",
       "      <th>totalrevenue</th>\n",
       "      <th>barnesandnobleaccruedpreorderunits</th>\n",
       "      <th>preorderunits</th>\n",
       "      <th>amazonsubscriptionrevenue</th>\n",
       "      <th>amazonlumpedpreorderrevenue</th>\n",
       "      <th>maxbarnesandnoblelistprice</th>\n",
       "      <th>maxlistprice</th>\n",
       "      <th>barnesandnoblesoldunits</th>\n",
       "      <th>maxapplelistprice</th>\n",
       "      <th>amazonaccruedpreordersubscriptionrevenue</th>\n",
       "      <th>accruedpreordersubscriptionunits</th>\n",
       "      <th>amazonkenpread</th>\n",
       "      <th>applesoldunits</th>\n",
       "      <th>minamazonlistprice</th>\n",
       "      <th>minprice</th>\n",
       "      <th>bookscanreported</th>\n",
       "      <th>appleaccruedpreorderunits</th>\n",
       "      <th>preorderperiod</th>\n",
       "      <th>lumpedpreordersoldunits</th>\n",
       "      <th>accruedpreorderrevenue</th>\n",
       "      <th>maxamazonlistprice</th>\n",
       "      <th>amazonaccruedpreorderrevenue</th>\n",
       "      <th>barnesandnoblepreorderunits</th>\n",
       "      <th>amazonaccruedpreorderunits</th>\n",
       "      <th>minbarnesandnoblelistprice</th>\n",
       "      <th>appleaccruedpreorderrevenue</th>\n",
       "      <th>applelumpedpreorderunits</th>\n",
       "      <th>applesalesrevenue</th>\n",
       "      <th>preordersoldunits</th>\n",
       "      <th>lumpedpreordersalesrevenue</th>\n",
       "      <th>totalunits</th>\n",
       "      <th>maxamazonprice</th>\n",
       "      <th>amazonlumpedpreordersoldunits</th>\n",
       "      <th>amazonaveragerating</th>\n",
       "      <th>accruedpreorderunits</th>\n",
       "      <th>amazonsalesrevenue</th>\n",
       "      <th>barnesandnoblesalesrevenue</th>\n",
       "      <th>minlistprice</th>\n",
       "      <th>amazonaccruedpreordersalesrevenue</th>\n",
       "      <th>amazonlumpedpreorderunits</th>\n",
       "      <th>lumpedpreordersubscriptionrevenue</th>\n",
       "      <th>applelumpedpreorderrevenue</th>\n",
       "      <th>minamazonprice</th>\n",
       "      <th>subscriptionunits</th>\n",
       "      <th>amazonpreorderunits</th>\n",
       "      <th>amazonpreorderrevenue</th>\n",
       "      <th>amazonaccruedpreordersoldunits</th>\n",
       "      <th>amazonpreordersoldunits</th>\n",
       "      <th>salesrevenue</th>\n",
       "      <th>preordersubscriptionrevenue</th>\n",
       "      <th>lumpedpreorderunits</th>\n",
       "      <th>amazonaccruedpreordersubscriptionunits</th>\n",
       "      <th>applepreorderunits</th>\n",
       "      <th>subscriptionrevenue</th>\n",
       "      <th>soldunits</th>\n",
       "      <th>minapplelistprice</th>\n",
       "      <th>barnesandnoblepreorderrevenue</th>\n",
       "      <th>amazonsubscriptionunits</th>\n",
       "      <th>amazonlumpedpreordersubscriptionunits</th>\n",
       "      <th>aapreported</th>\n",
       "      <th>accruedpreordersubscriptionrevenue</th>\n",
       "      <th>foundatapple</th>\n",
       "      <th>barnesandnoblelumpedpreorderrevenue</th>\n",
       "      <th>barnesandnoblelumpedpreorderunits</th>\n",
       "      <th>minbarnesandnobleprice</th>\n",
       "      <th>accruedpreordersalesrevenue</th>\n",
       "      <th>maxbarnesandnobleprice</th>\n",
       "      <th>preorderrevenue</th>\n",
       "      <th>pubtrackreported</th>\n",
       "      <th>lumpedpreorderrevenue</th>\n",
       "      <th>amazonsoldunits</th>\n",
       "      <th>amazonpreordersubscriptionrevenue</th>\n",
       "      <th>preordersubscriptionunits</th>\n",
       "      <th>amazonpreordersalesrevenue</th>\n",
       "      <th>maxappleprice</th>\n",
       "      <th>pagelength</th>\n",
       "      <th>pricewassetbypublisher</th>\n",
       "    </tr>\n",
       "  </thead>\n",
       "  <tbody>\n",
       "    <tr>\n",
       "      <th>count</th>\n",
       "      <td>6.539000e+03</td>\n",
       "      <td>6539.000000</td>\n",
       "      <td>6.539000e+03</td>\n",
       "      <td>6522.000000</td>\n",
       "      <td>6539.000000</td>\n",
       "      <td>6539.000000</td>\n",
       "      <td>6539.000000</td>\n",
       "      <td>6539.0</td>\n",
       "      <td>6539.000000</td>\n",
       "      <td>6539.000000</td>\n",
       "      <td>6539.0</td>\n",
       "      <td>6539.0</td>\n",
       "      <td>6539.000000</td>\n",
       "      <td>6539.000000</td>\n",
       "      <td>6539.000000</td>\n",
       "      <td>6539.0</td>\n",
       "      <td>6539.0</td>\n",
       "      <td>6539.000000</td>\n",
       "      <td>6539.000000</td>\n",
       "      <td>6539.0</td>\n",
       "      <td>6539.000000</td>\n",
       "      <td>6539.000000</td>\n",
       "      <td>6539.000000</td>\n",
       "      <td>6539.0</td>\n",
       "      <td>6539.000000</td>\n",
       "      <td>6539.000000</td>\n",
       "      <td>6539.0</td>\n",
       "      <td>6539.0</td>\n",
       "      <td>6539.0</td>\n",
       "      <td>6539.0</td>\n",
       "      <td>6539.000000</td>\n",
       "      <td>6539.000000</td>\n",
       "      <td>6539.000000</td>\n",
       "      <td>6539.000000</td>\n",
       "      <td>6539.0</td>\n",
       "      <td>6539.000000</td>\n",
       "      <td>6539.000000</td>\n",
       "      <td>6539.000000</td>\n",
       "      <td>6539.000000</td>\n",
       "      <td>6539.000000</td>\n",
       "      <td>6539.0</td>\n",
       "      <td>6539.000000</td>\n",
       "      <td>6539.0</td>\n",
       "      <td>6539.0</td>\n",
       "      <td>6539.0</td>\n",
       "      <td>6539.000000</td>\n",
       "      <td>6539.000000</td>\n",
       "      <td>6539.000000</td>\n",
       "      <td>6539.000000</td>\n",
       "      <td>6539.000000</td>\n",
       "      <td>6539.000000</td>\n",
       "      <td>6523.000000</td>\n",
       "      <td>6539.000000</td>\n",
       "      <td>6539.000000</td>\n",
       "      <td>6539.000000</td>\n",
       "      <td>6539.000000</td>\n",
       "      <td>6539.000000</td>\n",
       "      <td>6539.000000</td>\n",
       "      <td>6539.0</td>\n",
       "      <td>6539.0</td>\n",
       "      <td>6539.000000</td>\n",
       "      <td>6539.000000</td>\n",
       "      <td>6539.000000</td>\n",
       "      <td>6539.000000</td>\n",
       "      <td>6539.000000</td>\n",
       "      <td>6539.000000</td>\n",
       "      <td>6539.000000</td>\n",
       "      <td>6539.0</td>\n",
       "      <td>6539.000000</td>\n",
       "      <td>6539.0</td>\n",
       "      <td>6539.0</td>\n",
       "      <td>6539.000000</td>\n",
       "      <td>6539.000000</td>\n",
       "      <td>6539.0</td>\n",
       "      <td>6539.0</td>\n",
       "      <td>6539.000000</td>\n",
       "      <td>6539.0</td>\n",
       "      <td>6539.000000</td>\n",
       "      <td>6539.0</td>\n",
       "      <td>6539.000000</td>\n",
       "      <td>6539.0</td>\n",
       "      <td>6539.0</td>\n",
       "      <td>6539.000000</td>\n",
       "      <td>6539.000000</td>\n",
       "      <td>6539.000000</td>\n",
       "      <td>6539.000000</td>\n",
       "      <td>6539.000000</td>\n",
       "      <td>6539.000000</td>\n",
       "      <td>6539.000000</td>\n",
       "      <td>6539.0</td>\n",
       "      <td>6539.0</td>\n",
       "      <td>6539.000000</td>\n",
       "      <td>6539.000000</td>\n",
       "      <td>2558.000000</td>\n",
       "      <td>1531.0</td>\n",
       "    </tr>\n",
       "    <tr>\n",
       "      <th>mean</th>\n",
       "      <td>2.018078e+07</td>\n",
       "      <td>1.599174</td>\n",
       "      <td>2.018080e+07</td>\n",
       "      <td>242.896044</td>\n",
       "      <td>118.859459</td>\n",
       "      <td>18074.906866</td>\n",
       "      <td>0.235204</td>\n",
       "      <td>0.0</td>\n",
       "      <td>155.503288</td>\n",
       "      <td>0.998165</td>\n",
       "      <td>0.0</td>\n",
       "      <td>0.0</td>\n",
       "      <td>155.503288</td>\n",
       "      <td>0.265331</td>\n",
       "      <td>1120.283835</td>\n",
       "      <td>0.0</td>\n",
       "      <td>0.0</td>\n",
       "      <td>19.246674</td>\n",
       "      <td>19047.171127</td>\n",
       "      <td>0.0</td>\n",
       "      <td>0.210124</td>\n",
       "      <td>2363.101392</td>\n",
       "      <td>155.503288</td>\n",
       "      <td>0.0</td>\n",
       "      <td>813.977672</td>\n",
       "      <td>0.002447</td>\n",
       "      <td>0.0</td>\n",
       "      <td>0.0</td>\n",
       "      <td>0.0</td>\n",
       "      <td>0.0</td>\n",
       "      <td>0.970791</td>\n",
       "      <td>754.291329</td>\n",
       "      <td>1070.648876</td>\n",
       "      <td>0.506194</td>\n",
       "      <td>0.0</td>\n",
       "      <td>0.022328</td>\n",
       "      <td>0.210124</td>\n",
       "      <td>182.564918</td>\n",
       "      <td>813.977672</td>\n",
       "      <td>182.564918</td>\n",
       "      <td>0.0</td>\n",
       "      <td>0.235204</td>\n",
       "      <td>0.0</td>\n",
       "      <td>0.0</td>\n",
       "      <td>0.0</td>\n",
       "      <td>969.819850</td>\n",
       "      <td>0.210124</td>\n",
       "      <td>155.503288</td>\n",
       "      <td>20.219911</td>\n",
       "      <td>1110.416425</td>\n",
       "      <td>0.210124</td>\n",
       "      <td>453.302162</td>\n",
       "      <td>0.235204</td>\n",
       "      <td>15711.805475</td>\n",
       "      <td>2.444410</td>\n",
       "      <td>670.734975</td>\n",
       "      <td>182.564918</td>\n",
       "      <td>0.210124</td>\n",
       "      <td>0.0</td>\n",
       "      <td>0.0</td>\n",
       "      <td>1070.526686</td>\n",
       "      <td>1.580670</td>\n",
       "      <td>0.210124</td>\n",
       "      <td>155.503288</td>\n",
       "      <td>0.235204</td>\n",
       "      <td>0.210124</td>\n",
       "      <td>16684.069735</td>\n",
       "      <td>0.0</td>\n",
       "      <td>0.210124</td>\n",
       "      <td>0.0</td>\n",
       "      <td>0.0</td>\n",
       "      <td>2363.101392</td>\n",
       "      <td>18.639241</td>\n",
       "      <td>0.0</td>\n",
       "      <td>0.0</td>\n",
       "      <td>1.580670</td>\n",
       "      <td>0.0</td>\n",
       "      <td>0.984095</td>\n",
       "      <td>0.0</td>\n",
       "      <td>0.115614</td>\n",
       "      <td>0.0</td>\n",
       "      <td>0.0</td>\n",
       "      <td>128.287047</td>\n",
       "      <td>182.564918</td>\n",
       "      <td>128.287047</td>\n",
       "      <td>155.503288</td>\n",
       "      <td>0.984095</td>\n",
       "      <td>155.503288</td>\n",
       "      <td>17.666004</td>\n",
       "      <td>0.0</td>\n",
       "      <td>0.0</td>\n",
       "      <td>155.503288</td>\n",
       "      <td>118.859459</td>\n",
       "      <td>336.532447</td>\n",
       "      <td>1.0</td>\n",
       "    </tr>\n",
       "    <tr>\n",
       "      <th>std</th>\n",
       "      <td>7.319859e+03</td>\n",
       "      <td>0.748654</td>\n",
       "      <td>7.321285e+03</td>\n",
       "      <td>57.042772</td>\n",
       "      <td>323.464108</td>\n",
       "      <td>30999.078107</td>\n",
       "      <td>2.776806</td>\n",
       "      <td>0.0</td>\n",
       "      <td>8769.366153</td>\n",
       "      <td>0.042803</td>\n",
       "      <td>0.0</td>\n",
       "      <td>0.0</td>\n",
       "      <td>8769.366153</td>\n",
       "      <td>0.441543</td>\n",
       "      <td>480.250221</td>\n",
       "      <td>0.0</td>\n",
       "      <td>0.0</td>\n",
       "      <td>36.567037</td>\n",
       "      <td>32704.552550</td>\n",
       "      <td>0.0</td>\n",
       "      <td>11.978933</td>\n",
       "      <td>7569.937102</td>\n",
       "      <td>8769.366153</td>\n",
       "      <td>0.0</td>\n",
       "      <td>716.871551</td>\n",
       "      <td>0.139899</td>\n",
       "      <td>0.0</td>\n",
       "      <td>0.0</td>\n",
       "      <td>0.0</td>\n",
       "      <td>0.0</td>\n",
       "      <td>10.904038</td>\n",
       "      <td>706.126853</td>\n",
       "      <td>512.288446</td>\n",
       "      <td>0.500000</td>\n",
       "      <td>0.0</td>\n",
       "      <td>0.147758</td>\n",
       "      <td>11.978933</td>\n",
       "      <td>2329.724787</td>\n",
       "      <td>716.871551</td>\n",
       "      <td>2329.724787</td>\n",
       "      <td>0.0</td>\n",
       "      <td>2.776806</td>\n",
       "      <td>0.0</td>\n",
       "      <td>0.0</td>\n",
       "      <td>0.0</td>\n",
       "      <td>10893.133995</td>\n",
       "      <td>11.978933</td>\n",
       "      <td>8769.366153</td>\n",
       "      <td>38.000744</td>\n",
       "      <td>485.727725</td>\n",
       "      <td>11.978933</td>\n",
       "      <td>13.736645</td>\n",
       "      <td>2.776806</td>\n",
       "      <td>29237.397462</td>\n",
       "      <td>139.759581</td>\n",
       "      <td>735.657320</td>\n",
       "      <td>2329.724787</td>\n",
       "      <td>11.978933</td>\n",
       "      <td>0.0</td>\n",
       "      <td>0.0</td>\n",
       "      <td>512.448512</td>\n",
       "      <td>5.063503</td>\n",
       "      <td>11.978933</td>\n",
       "      <td>8769.366153</td>\n",
       "      <td>2.776806</td>\n",
       "      <td>11.978933</td>\n",
       "      <td>31113.761349</td>\n",
       "      <td>0.0</td>\n",
       "      <td>11.978933</td>\n",
       "      <td>0.0</td>\n",
       "      <td>0.0</td>\n",
       "      <td>7569.937102</td>\n",
       "      <td>37.757858</td>\n",
       "      <td>0.0</td>\n",
       "      <td>0.0</td>\n",
       "      <td>5.063503</td>\n",
       "      <td>0.0</td>\n",
       "      <td>0.125116</td>\n",
       "      <td>0.0</td>\n",
       "      <td>0.319786</td>\n",
       "      <td>0.0</td>\n",
       "      <td>0.0</td>\n",
       "      <td>317.132231</td>\n",
       "      <td>2329.724787</td>\n",
       "      <td>317.132231</td>\n",
       "      <td>8769.366153</td>\n",
       "      <td>0.125116</td>\n",
       "      <td>8769.366153</td>\n",
       "      <td>36.272170</td>\n",
       "      <td>0.0</td>\n",
       "      <td>0.0</td>\n",
       "      <td>8769.366153</td>\n",
       "      <td>323.464108</td>\n",
       "      <td>42.531144</td>\n",
       "      <td>0.0</td>\n",
       "    </tr>\n",
       "    <tr>\n",
       "      <th>min</th>\n",
       "      <td>2.017040e+07</td>\n",
       "      <td>1.000000</td>\n",
       "      <td>2.017040e+07</td>\n",
       "      <td>120.000000</td>\n",
       "      <td>0.000000</td>\n",
       "      <td>0.000000</td>\n",
       "      <td>0.000000</td>\n",
       "      <td>0.0</td>\n",
       "      <td>0.000000</td>\n",
       "      <td>0.000000</td>\n",
       "      <td>0.0</td>\n",
       "      <td>0.0</td>\n",
       "      <td>0.000000</td>\n",
       "      <td>0.000000</td>\n",
       "      <td>0.000000</td>\n",
       "      <td>0.0</td>\n",
       "      <td>0.0</td>\n",
       "      <td>0.000000</td>\n",
       "      <td>0.000000</td>\n",
       "      <td>0.0</td>\n",
       "      <td>0.000000</td>\n",
       "      <td>0.000000</td>\n",
       "      <td>0.000000</td>\n",
       "      <td>0.0</td>\n",
       "      <td>0.000000</td>\n",
       "      <td>0.000000</td>\n",
       "      <td>0.0</td>\n",
       "      <td>0.0</td>\n",
       "      <td>0.0</td>\n",
       "      <td>0.0</td>\n",
       "      <td>0.000000</td>\n",
       "      <td>0.000000</td>\n",
       "      <td>0.000000</td>\n",
       "      <td>0.000000</td>\n",
       "      <td>0.0</td>\n",
       "      <td>0.000000</td>\n",
       "      <td>0.000000</td>\n",
       "      <td>0.000000</td>\n",
       "      <td>0.000000</td>\n",
       "      <td>0.000000</td>\n",
       "      <td>0.0</td>\n",
       "      <td>0.000000</td>\n",
       "      <td>0.0</td>\n",
       "      <td>0.0</td>\n",
       "      <td>0.0</td>\n",
       "      <td>0.000000</td>\n",
       "      <td>0.000000</td>\n",
       "      <td>0.000000</td>\n",
       "      <td>0.000000</td>\n",
       "      <td>0.000000</td>\n",
       "      <td>0.000000</td>\n",
       "      <td>410.000000</td>\n",
       "      <td>0.000000</td>\n",
       "      <td>0.000000</td>\n",
       "      <td>0.000000</td>\n",
       "      <td>0.000000</td>\n",
       "      <td>0.000000</td>\n",
       "      <td>0.000000</td>\n",
       "      <td>0.0</td>\n",
       "      <td>0.0</td>\n",
       "      <td>0.000000</td>\n",
       "      <td>0.000000</td>\n",
       "      <td>0.000000</td>\n",
       "      <td>0.000000</td>\n",
       "      <td>0.000000</td>\n",
       "      <td>0.000000</td>\n",
       "      <td>0.000000</td>\n",
       "      <td>0.0</td>\n",
       "      <td>0.000000</td>\n",
       "      <td>0.0</td>\n",
       "      <td>0.0</td>\n",
       "      <td>0.000000</td>\n",
       "      <td>0.000000</td>\n",
       "      <td>0.0</td>\n",
       "      <td>0.0</td>\n",
       "      <td>0.000000</td>\n",
       "      <td>0.0</td>\n",
       "      <td>0.000000</td>\n",
       "      <td>0.0</td>\n",
       "      <td>0.000000</td>\n",
       "      <td>0.0</td>\n",
       "      <td>0.0</td>\n",
       "      <td>0.000000</td>\n",
       "      <td>0.000000</td>\n",
       "      <td>0.000000</td>\n",
       "      <td>0.000000</td>\n",
       "      <td>0.000000</td>\n",
       "      <td>0.000000</td>\n",
       "      <td>0.000000</td>\n",
       "      <td>0.0</td>\n",
       "      <td>0.0</td>\n",
       "      <td>0.000000</td>\n",
       "      <td>0.000000</td>\n",
       "      <td>305.000000</td>\n",
       "      <td>1.0</td>\n",
       "    </tr>\n",
       "    <tr>\n",
       "      <th>25%</th>\n",
       "      <td>2.017121e+07</td>\n",
       "      <td>1.000000</td>\n",
       "      <td>2.017121e+07</td>\n",
       "      <td>200.000000</td>\n",
       "      <td>0.000000</td>\n",
       "      <td>1998.000000</td>\n",
       "      <td>0.000000</td>\n",
       "      <td>0.0</td>\n",
       "      <td>0.000000</td>\n",
       "      <td>1.000000</td>\n",
       "      <td>0.0</td>\n",
       "      <td>0.0</td>\n",
       "      <td>0.000000</td>\n",
       "      <td>0.000000</td>\n",
       "      <td>799.000000</td>\n",
       "      <td>0.0</td>\n",
       "      <td>0.0</td>\n",
       "      <td>2.000000</td>\n",
       "      <td>1998.000000</td>\n",
       "      <td>0.0</td>\n",
       "      <td>0.000000</td>\n",
       "      <td>0.000000</td>\n",
       "      <td>0.000000</td>\n",
       "      <td>0.0</td>\n",
       "      <td>0.000000</td>\n",
       "      <td>0.000000</td>\n",
       "      <td>0.0</td>\n",
       "      <td>0.0</td>\n",
       "      <td>0.0</td>\n",
       "      <td>0.0</td>\n",
       "      <td>0.000000</td>\n",
       "      <td>0.000000</td>\n",
       "      <td>732.000000</td>\n",
       "      <td>0.000000</td>\n",
       "      <td>0.0</td>\n",
       "      <td>0.000000</td>\n",
       "      <td>0.000000</td>\n",
       "      <td>0.000000</td>\n",
       "      <td>0.000000</td>\n",
       "      <td>0.000000</td>\n",
       "      <td>0.0</td>\n",
       "      <td>0.000000</td>\n",
       "      <td>0.0</td>\n",
       "      <td>0.0</td>\n",
       "      <td>0.0</td>\n",
       "      <td>0.000000</td>\n",
       "      <td>0.000000</td>\n",
       "      <td>0.000000</td>\n",
       "      <td>2.000000</td>\n",
       "      <td>795.500000</td>\n",
       "      <td>0.000000</td>\n",
       "      <td>440.000000</td>\n",
       "      <td>0.000000</td>\n",
       "      <td>1795.000000</td>\n",
       "      <td>0.000000</td>\n",
       "      <td>0.000000</td>\n",
       "      <td>0.000000</td>\n",
       "      <td>0.000000</td>\n",
       "      <td>0.0</td>\n",
       "      <td>0.0</td>\n",
       "      <td>732.000000</td>\n",
       "      <td>0.000000</td>\n",
       "      <td>0.000000</td>\n",
       "      <td>0.000000</td>\n",
       "      <td>0.000000</td>\n",
       "      <td>0.000000</td>\n",
       "      <td>1795.000000</td>\n",
       "      <td>0.0</td>\n",
       "      <td>0.000000</td>\n",
       "      <td>0.0</td>\n",
       "      <td>0.0</td>\n",
       "      <td>0.000000</td>\n",
       "      <td>1.000000</td>\n",
       "      <td>0.0</td>\n",
       "      <td>0.0</td>\n",
       "      <td>0.000000</td>\n",
       "      <td>0.0</td>\n",
       "      <td>1.000000</td>\n",
       "      <td>0.0</td>\n",
       "      <td>0.000000</td>\n",
       "      <td>0.0</td>\n",
       "      <td>0.0</td>\n",
       "      <td>0.000000</td>\n",
       "      <td>0.000000</td>\n",
       "      <td>0.000000</td>\n",
       "      <td>0.000000</td>\n",
       "      <td>1.000000</td>\n",
       "      <td>0.000000</td>\n",
       "      <td>1.000000</td>\n",
       "      <td>0.0</td>\n",
       "      <td>0.0</td>\n",
       "      <td>0.000000</td>\n",
       "      <td>0.000000</td>\n",
       "      <td>320.000000</td>\n",
       "      <td>1.0</td>\n",
       "    </tr>\n",
       "    <tr>\n",
       "      <th>50%</th>\n",
       "      <td>2.018071e+07</td>\n",
       "      <td>1.000000</td>\n",
       "      <td>2.018071e+07</td>\n",
       "      <td>250.000000</td>\n",
       "      <td>0.000000</td>\n",
       "      <td>7191.000000</td>\n",
       "      <td>0.000000</td>\n",
       "      <td>0.0</td>\n",
       "      <td>0.000000</td>\n",
       "      <td>1.000000</td>\n",
       "      <td>0.0</td>\n",
       "      <td>0.0</td>\n",
       "      <td>0.000000</td>\n",
       "      <td>0.000000</td>\n",
       "      <td>999.000000</td>\n",
       "      <td>0.0</td>\n",
       "      <td>0.0</td>\n",
       "      <td>7.000000</td>\n",
       "      <td>7675.000000</td>\n",
       "      <td>0.0</td>\n",
       "      <td>0.000000</td>\n",
       "      <td>0.000000</td>\n",
       "      <td>0.000000</td>\n",
       "      <td>0.0</td>\n",
       "      <td>799.000000</td>\n",
       "      <td>0.000000</td>\n",
       "      <td>0.0</td>\n",
       "      <td>0.0</td>\n",
       "      <td>0.0</td>\n",
       "      <td>0.0</td>\n",
       "      <td>0.000000</td>\n",
       "      <td>732.000000</td>\n",
       "      <td>999.000000</td>\n",
       "      <td>1.000000</td>\n",
       "      <td>0.0</td>\n",
       "      <td>0.000000</td>\n",
       "      <td>0.000000</td>\n",
       "      <td>0.000000</td>\n",
       "      <td>799.000000</td>\n",
       "      <td>0.000000</td>\n",
       "      <td>0.0</td>\n",
       "      <td>0.000000</td>\n",
       "      <td>0.0</td>\n",
       "      <td>0.0</td>\n",
       "      <td>0.0</td>\n",
       "      <td>0.000000</td>\n",
       "      <td>0.000000</td>\n",
       "      <td>0.000000</td>\n",
       "      <td>7.000000</td>\n",
       "      <td>999.000000</td>\n",
       "      <td>0.000000</td>\n",
       "      <td>460.000000</td>\n",
       "      <td>0.000000</td>\n",
       "      <td>6392.000000</td>\n",
       "      <td>0.000000</td>\n",
       "      <td>637.000000</td>\n",
       "      <td>0.000000</td>\n",
       "      <td>0.000000</td>\n",
       "      <td>0.0</td>\n",
       "      <td>0.0</td>\n",
       "      <td>999.000000</td>\n",
       "      <td>0.000000</td>\n",
       "      <td>0.000000</td>\n",
       "      <td>0.000000</td>\n",
       "      <td>0.000000</td>\n",
       "      <td>0.000000</td>\n",
       "      <td>6800.000000</td>\n",
       "      <td>0.0</td>\n",
       "      <td>0.000000</td>\n",
       "      <td>0.0</td>\n",
       "      <td>0.0</td>\n",
       "      <td>0.000000</td>\n",
       "      <td>7.000000</td>\n",
       "      <td>0.0</td>\n",
       "      <td>0.0</td>\n",
       "      <td>0.000000</td>\n",
       "      <td>0.0</td>\n",
       "      <td>1.000000</td>\n",
       "      <td>0.0</td>\n",
       "      <td>0.000000</td>\n",
       "      <td>0.0</td>\n",
       "      <td>0.0</td>\n",
       "      <td>0.000000</td>\n",
       "      <td>0.000000</td>\n",
       "      <td>0.000000</td>\n",
       "      <td>0.000000</td>\n",
       "      <td>1.000000</td>\n",
       "      <td>0.000000</td>\n",
       "      <td>6.000000</td>\n",
       "      <td>0.0</td>\n",
       "      <td>0.0</td>\n",
       "      <td>0.000000</td>\n",
       "      <td>0.000000</td>\n",
       "      <td>321.000000</td>\n",
       "      <td>1.0</td>\n",
       "    </tr>\n",
       "    <tr>\n",
       "      <th>75%</th>\n",
       "      <td>2.019013e+07</td>\n",
       "      <td>2.000000</td>\n",
       "      <td>2.019013e+07</td>\n",
       "      <td>283.000000</td>\n",
       "      <td>0.000000</td>\n",
       "      <td>17982.000000</td>\n",
       "      <td>0.000000</td>\n",
       "      <td>0.0</td>\n",
       "      <td>0.000000</td>\n",
       "      <td>1.000000</td>\n",
       "      <td>0.0</td>\n",
       "      <td>0.0</td>\n",
       "      <td>0.000000</td>\n",
       "      <td>1.000000</td>\n",
       "      <td>1595.000000</td>\n",
       "      <td>0.0</td>\n",
       "      <td>0.0</td>\n",
       "      <td>16.000000</td>\n",
       "      <td>20035.000000</td>\n",
       "      <td>0.0</td>\n",
       "      <td>0.000000</td>\n",
       "      <td>0.000000</td>\n",
       "      <td>0.000000</td>\n",
       "      <td>0.0</td>\n",
       "      <td>1458.000000</td>\n",
       "      <td>0.000000</td>\n",
       "      <td>0.0</td>\n",
       "      <td>0.0</td>\n",
       "      <td>0.0</td>\n",
       "      <td>0.0</td>\n",
       "      <td>0.000000</td>\n",
       "      <td>1357.000000</td>\n",
       "      <td>1579.000000</td>\n",
       "      <td>1.000000</td>\n",
       "      <td>0.0</td>\n",
       "      <td>0.000000</td>\n",
       "      <td>0.000000</td>\n",
       "      <td>0.000000</td>\n",
       "      <td>1458.000000</td>\n",
       "      <td>0.000000</td>\n",
       "      <td>0.0</td>\n",
       "      <td>0.000000</td>\n",
       "      <td>0.0</td>\n",
       "      <td>0.0</td>\n",
       "      <td>0.0</td>\n",
       "      <td>0.000000</td>\n",
       "      <td>0.000000</td>\n",
       "      <td>0.000000</td>\n",
       "      <td>18.000000</td>\n",
       "      <td>1595.000000</td>\n",
       "      <td>0.000000</td>\n",
       "      <td>470.000000</td>\n",
       "      <td>0.000000</td>\n",
       "      <td>14355.000000</td>\n",
       "      <td>0.000000</td>\n",
       "      <td>1357.000000</td>\n",
       "      <td>0.000000</td>\n",
       "      <td>0.000000</td>\n",
       "      <td>0.0</td>\n",
       "      <td>0.0</td>\n",
       "      <td>1579.000000</td>\n",
       "      <td>0.000000</td>\n",
       "      <td>0.000000</td>\n",
       "      <td>0.000000</td>\n",
       "      <td>0.000000</td>\n",
       "      <td>0.000000</td>\n",
       "      <td>15950.000000</td>\n",
       "      <td>0.0</td>\n",
       "      <td>0.000000</td>\n",
       "      <td>0.0</td>\n",
       "      <td>0.0</td>\n",
       "      <td>0.000000</td>\n",
       "      <td>14.000000</td>\n",
       "      <td>0.0</td>\n",
       "      <td>0.0</td>\n",
       "      <td>0.000000</td>\n",
       "      <td>0.0</td>\n",
       "      <td>1.000000</td>\n",
       "      <td>0.0</td>\n",
       "      <td>0.000000</td>\n",
       "      <td>0.0</td>\n",
       "      <td>0.0</td>\n",
       "      <td>0.000000</td>\n",
       "      <td>0.000000</td>\n",
       "      <td>0.000000</td>\n",
       "      <td>0.000000</td>\n",
       "      <td>1.000000</td>\n",
       "      <td>0.000000</td>\n",
       "      <td>13.000000</td>\n",
       "      <td>0.0</td>\n",
       "      <td>0.0</td>\n",
       "      <td>0.000000</td>\n",
       "      <td>0.000000</td>\n",
       "      <td>321.000000</td>\n",
       "      <td>1.0</td>\n",
       "    </tr>\n",
       "    <tr>\n",
       "      <th>max</th>\n",
       "      <td>2.019083e+07</td>\n",
       "      <td>4.000000</td>\n",
       "      <td>2.019083e+07</td>\n",
       "      <td>331.000000</td>\n",
       "      <td>999.000000</td>\n",
       "      <td>571692.000000</td>\n",
       "      <td>82.000000</td>\n",
       "      <td>0.0</td>\n",
       "      <td>501420.000000</td>\n",
       "      <td>1.000000</td>\n",
       "      <td>0.0</td>\n",
       "      <td>0.0</td>\n",
       "      <td>501420.000000</td>\n",
       "      <td>1.000000</td>\n",
       "      <td>3499.000000</td>\n",
       "      <td>0.0</td>\n",
       "      <td>0.0</td>\n",
       "      <td>781.000000</td>\n",
       "      <td>571692.000000</td>\n",
       "      <td>0.0</td>\n",
       "      <td>685.000000</td>\n",
       "      <td>216775.000000</td>\n",
       "      <td>501420.000000</td>\n",
       "      <td>0.0</td>\n",
       "      <td>3499.000000</td>\n",
       "      <td>8.000000</td>\n",
       "      <td>0.0</td>\n",
       "      <td>0.0</td>\n",
       "      <td>0.0</td>\n",
       "      <td>0.0</td>\n",
       "      <td>451.000000</td>\n",
       "      <td>3499.000000</td>\n",
       "      <td>3499.000000</td>\n",
       "      <td>1.000000</td>\n",
       "      <td>0.0</td>\n",
       "      <td>1.000000</td>\n",
       "      <td>685.000000</td>\n",
       "      <td>88478.000000</td>\n",
       "      <td>3499.000000</td>\n",
       "      <td>88478.000000</td>\n",
       "      <td>0.0</td>\n",
       "      <td>82.000000</td>\n",
       "      <td>0.0</td>\n",
       "      <td>0.0</td>\n",
       "      <td>0.0</td>\n",
       "      <td>450549.000000</td>\n",
       "      <td>685.000000</td>\n",
       "      <td>501420.000000</td>\n",
       "      <td>781.000000</td>\n",
       "      <td>3499.000000</td>\n",
       "      <td>685.000000</td>\n",
       "      <td>470.000000</td>\n",
       "      <td>82.000000</td>\n",
       "      <td>571692.000000</td>\n",
       "      <td>7992.000000</td>\n",
       "      <td>3499.000000</td>\n",
       "      <td>88478.000000</td>\n",
       "      <td>685.000000</td>\n",
       "      <td>0.0</td>\n",
       "      <td>0.0</td>\n",
       "      <td>3499.000000</td>\n",
       "      <td>145.000000</td>\n",
       "      <td>685.000000</td>\n",
       "      <td>501420.000000</td>\n",
       "      <td>82.000000</td>\n",
       "      <td>685.000000</td>\n",
       "      <td>571692.000000</td>\n",
       "      <td>0.0</td>\n",
       "      <td>685.000000</td>\n",
       "      <td>0.0</td>\n",
       "      <td>0.0</td>\n",
       "      <td>216775.000000</td>\n",
       "      <td>781.000000</td>\n",
       "      <td>0.0</td>\n",
       "      <td>0.0</td>\n",
       "      <td>145.000000</td>\n",
       "      <td>0.0</td>\n",
       "      <td>1.000000</td>\n",
       "      <td>0.0</td>\n",
       "      <td>1.000000</td>\n",
       "      <td>0.0</td>\n",
       "      <td>0.0</td>\n",
       "      <td>999.000000</td>\n",
       "      <td>88478.000000</td>\n",
       "      <td>999.000000</td>\n",
       "      <td>501420.000000</td>\n",
       "      <td>1.000000</td>\n",
       "      <td>501420.000000</td>\n",
       "      <td>781.000000</td>\n",
       "      <td>0.0</td>\n",
       "      <td>0.0</td>\n",
       "      <td>501420.000000</td>\n",
       "      <td>999.000000</td>\n",
       "      <td>496.000000</td>\n",
       "      <td>1.0</td>\n",
       "    </tr>\n",
       "  </tbody>\n",
       "</table>\n",
       "</div>"
      ],
      "text/plain": [
       "           fromdate   titlecount        todate  amazontotalreviews  \\\n",
       "count  6.539000e+03  6539.000000  6.539000e+03         6522.000000   \n",
       "mean   2.018078e+07     1.599174  2.018080e+07          242.896044   \n",
       "std    7.319859e+03     0.748654  7.321285e+03           57.042772   \n",
       "min    2.017040e+07     1.000000  2.017040e+07          120.000000   \n",
       "25%    2.017121e+07     1.000000  2.017121e+07          200.000000   \n",
       "50%    2.018071e+07     1.000000  2.018071e+07          250.000000   \n",
       "75%    2.019013e+07     2.000000  2.019013e+07          283.000000   \n",
       "max    2.019083e+07     4.000000  2.019083e+07          331.000000   \n",
       "\n",
       "       minappleprice  amazontotalrevenue  accruedpreordersoldunits  \\\n",
       "count    6539.000000         6539.000000               6539.000000   \n",
       "mean      118.859459        18074.906866                  0.235204   \n",
       "std       323.464108        30999.078107                  2.776806   \n",
       "min         0.000000            0.000000                  0.000000   \n",
       "25%         0.000000         1998.000000                  0.000000   \n",
       "50%         0.000000         7191.000000                  0.000000   \n",
       "75%         0.000000        17982.000000                  0.000000   \n",
       "max       999.000000       571692.000000                 82.000000   \n",
       "\n",
       "       amazonlumpedpreordersubscriptionrevenue  preordersalesrevenue  \\\n",
       "count                                   6539.0           6539.000000   \n",
       "mean                                       0.0            155.503288   \n",
       "std                                        0.0           8769.366153   \n",
       "min                                        0.0              0.000000   \n",
       "25%                                        0.0              0.000000   \n",
       "50%                                        0.0              0.000000   \n",
       "75%                                        0.0              0.000000   \n",
       "max                                        0.0         501420.000000   \n",
       "\n",
       "       foundatamazon  barnesandnobleaccruedpreorderrevenue  \\\n",
       "count    6539.000000                                6539.0   \n",
       "mean        0.998165                                   0.0   \n",
       "std         0.042803                                   0.0   \n",
       "min         0.000000                                   0.0   \n",
       "25%         1.000000                                   0.0   \n",
       "50%         1.000000                                   0.0   \n",
       "75%         1.000000                                   0.0   \n",
       "max         1.000000                                   0.0   \n",
       "\n",
       "       amazonpreordersubscriptionunits  amazonlumpedpreordersalesrevenue  \\\n",
       "count                           6539.0                       6539.000000   \n",
       "mean                               0.0                        155.503288   \n",
       "std                                0.0                       8769.366153   \n",
       "min                                0.0                          0.000000   \n",
       "25%                                0.0                          0.000000   \n",
       "50%                                0.0                          0.000000   \n",
       "75%                                0.0                          0.000000   \n",
       "max                                0.0                     501420.000000   \n",
       "\n",
       "       foundatbarnesandnoble     maxprice  lumpedpreordersubscriptionunits  \\\n",
       "count            6539.000000  6539.000000                           6539.0   \n",
       "mean                0.265331  1120.283835                              0.0   \n",
       "std                 0.441543   480.250221                              0.0   \n",
       "min                 0.000000     0.000000                              0.0   \n",
       "25%                 0.000000   799.000000                              0.0   \n",
       "50%                 0.000000   999.000000                              0.0   \n",
       "75%                 1.000000  1595.000000                              0.0   \n",
       "max                 1.000000  3499.000000                              0.0   \n",
       "\n",
       "       applepreorderrevenue  amazontotalunits   totalrevenue  \\\n",
       "count                6539.0       6539.000000    6539.000000   \n",
       "mean                    0.0         19.246674   19047.171127   \n",
       "std                     0.0         36.567037   32704.552550   \n",
       "min                     0.0          0.000000       0.000000   \n",
       "25%                     0.0          2.000000    1998.000000   \n",
       "50%                     0.0          7.000000    7675.000000   \n",
       "75%                     0.0         16.000000   20035.000000   \n",
       "max                     0.0        781.000000  571692.000000   \n",
       "\n",
       "       barnesandnobleaccruedpreorderunits  preorderunits  \\\n",
       "count                              6539.0    6539.000000   \n",
       "mean                                  0.0       0.210124   \n",
       "std                                   0.0      11.978933   \n",
       "min                                   0.0       0.000000   \n",
       "25%                                   0.0       0.000000   \n",
       "50%                                   0.0       0.000000   \n",
       "75%                                   0.0       0.000000   \n",
       "max                                   0.0     685.000000   \n",
       "\n",
       "       amazonsubscriptionrevenue  amazonlumpedpreorderrevenue  \\\n",
       "count                6539.000000                  6539.000000   \n",
       "mean                 2363.101392                   155.503288   \n",
       "std                  7569.937102                  8769.366153   \n",
       "min                     0.000000                     0.000000   \n",
       "25%                     0.000000                     0.000000   \n",
       "50%                     0.000000                     0.000000   \n",
       "75%                     0.000000                     0.000000   \n",
       "max                216775.000000                501420.000000   \n",
       "\n",
       "       maxbarnesandnoblelistprice  maxlistprice  barnesandnoblesoldunits  \\\n",
       "count                      6539.0   6539.000000              6539.000000   \n",
       "mean                          0.0    813.977672                 0.002447   \n",
       "std                           0.0    716.871551                 0.139899   \n",
       "min                           0.0      0.000000                 0.000000   \n",
       "25%                           0.0      0.000000                 0.000000   \n",
       "50%                           0.0    799.000000                 0.000000   \n",
       "75%                           0.0   1458.000000                 0.000000   \n",
       "max                           0.0   3499.000000                 8.000000   \n",
       "\n",
       "       maxapplelistprice  amazonaccruedpreordersubscriptionrevenue  \\\n",
       "count             6539.0                                    6539.0   \n",
       "mean                 0.0                                       0.0   \n",
       "std                  0.0                                       0.0   \n",
       "min                  0.0                                       0.0   \n",
       "25%                  0.0                                       0.0   \n",
       "50%                  0.0                                       0.0   \n",
       "75%                  0.0                                       0.0   \n",
       "max                  0.0                                       0.0   \n",
       "\n",
       "       accruedpreordersubscriptionunits  amazonkenpread  applesoldunits  \\\n",
       "count                            6539.0          6539.0     6539.000000   \n",
       "mean                                0.0             0.0        0.970791   \n",
       "std                                 0.0             0.0       10.904038   \n",
       "min                                 0.0             0.0        0.000000   \n",
       "25%                                 0.0             0.0        0.000000   \n",
       "50%                                 0.0             0.0        0.000000   \n",
       "75%                                 0.0             0.0        0.000000   \n",
       "max                                 0.0             0.0      451.000000   \n",
       "\n",
       "       minamazonlistprice     minprice  bookscanreported  \\\n",
       "count         6539.000000  6539.000000       6539.000000   \n",
       "mean           754.291329  1070.648876          0.506194   \n",
       "std            706.126853   512.288446          0.500000   \n",
       "min              0.000000     0.000000          0.000000   \n",
       "25%              0.000000   732.000000          0.000000   \n",
       "50%            732.000000   999.000000          1.000000   \n",
       "75%           1357.000000  1579.000000          1.000000   \n",
       "max           3499.000000  3499.000000          1.000000   \n",
       "\n",
       "       appleaccruedpreorderunits  preorderperiod  lumpedpreordersoldunits  \\\n",
       "count                     6539.0     6539.000000              6539.000000   \n",
       "mean                         0.0        0.022328                 0.210124   \n",
       "std                          0.0        0.147758                11.978933   \n",
       "min                          0.0        0.000000                 0.000000   \n",
       "25%                          0.0        0.000000                 0.000000   \n",
       "50%                          0.0        0.000000                 0.000000   \n",
       "75%                          0.0        0.000000                 0.000000   \n",
       "max                          0.0        1.000000               685.000000   \n",
       "\n",
       "       accruedpreorderrevenue  maxamazonlistprice  \\\n",
       "count             6539.000000         6539.000000   \n",
       "mean               182.564918          813.977672   \n",
       "std               2329.724787          716.871551   \n",
       "min                  0.000000            0.000000   \n",
       "25%                  0.000000            0.000000   \n",
       "50%                  0.000000          799.000000   \n",
       "75%                  0.000000         1458.000000   \n",
       "max              88478.000000         3499.000000   \n",
       "\n",
       "       amazonaccruedpreorderrevenue  barnesandnoblepreorderunits  \\\n",
       "count                   6539.000000                       6539.0   \n",
       "mean                     182.564918                          0.0   \n",
       "std                     2329.724787                          0.0   \n",
       "min                        0.000000                          0.0   \n",
       "25%                        0.000000                          0.0   \n",
       "50%                        0.000000                          0.0   \n",
       "75%                        0.000000                          0.0   \n",
       "max                    88478.000000                          0.0   \n",
       "\n",
       "       amazonaccruedpreorderunits  minbarnesandnoblelistprice  \\\n",
       "count                 6539.000000                      6539.0   \n",
       "mean                     0.235204                         0.0   \n",
       "std                      2.776806                         0.0   \n",
       "min                      0.000000                         0.0   \n",
       "25%                      0.000000                         0.0   \n",
       "50%                      0.000000                         0.0   \n",
       "75%                      0.000000                         0.0   \n",
       "max                     82.000000                         0.0   \n",
       "\n",
       "       appleaccruedpreorderrevenue  applelumpedpreorderunits  \\\n",
       "count                       6539.0                    6539.0   \n",
       "mean                           0.0                       0.0   \n",
       "std                            0.0                       0.0   \n",
       "min                            0.0                       0.0   \n",
       "25%                            0.0                       0.0   \n",
       "50%                            0.0                       0.0   \n",
       "75%                            0.0                       0.0   \n",
       "max                            0.0                       0.0   \n",
       "\n",
       "       applesalesrevenue  preordersoldunits  lumpedpreordersalesrevenue  \\\n",
       "count        6539.000000        6539.000000                 6539.000000   \n",
       "mean          969.819850           0.210124                  155.503288   \n",
       "std         10893.133995          11.978933                 8769.366153   \n",
       "min             0.000000           0.000000                    0.000000   \n",
       "25%             0.000000           0.000000                    0.000000   \n",
       "50%             0.000000           0.000000                    0.000000   \n",
       "75%             0.000000           0.000000                    0.000000   \n",
       "max        450549.000000         685.000000               501420.000000   \n",
       "\n",
       "        totalunits  maxamazonprice  amazonlumpedpreordersoldunits  \\\n",
       "count  6539.000000     6539.000000                    6539.000000   \n",
       "mean     20.219911     1110.416425                       0.210124   \n",
       "std      38.000744      485.727725                      11.978933   \n",
       "min       0.000000        0.000000                       0.000000   \n",
       "25%       2.000000      795.500000                       0.000000   \n",
       "50%       7.000000      999.000000                       0.000000   \n",
       "75%      18.000000     1595.000000                       0.000000   \n",
       "max     781.000000     3499.000000                     685.000000   \n",
       "\n",
       "       amazonaveragerating  accruedpreorderunits  amazonsalesrevenue  \\\n",
       "count          6523.000000           6539.000000         6539.000000   \n",
       "mean            453.302162              0.235204        15711.805475   \n",
       "std              13.736645              2.776806        29237.397462   \n",
       "min             410.000000              0.000000            0.000000   \n",
       "25%             440.000000              0.000000         1795.000000   \n",
       "50%             460.000000              0.000000         6392.000000   \n",
       "75%             470.000000              0.000000        14355.000000   \n",
       "max             470.000000             82.000000       571692.000000   \n",
       "\n",
       "       barnesandnoblesalesrevenue  minlistprice  \\\n",
       "count                 6539.000000   6539.000000   \n",
       "mean                     2.444410    670.734975   \n",
       "std                    139.759581    735.657320   \n",
       "min                      0.000000      0.000000   \n",
       "25%                      0.000000      0.000000   \n",
       "50%                      0.000000    637.000000   \n",
       "75%                      0.000000   1357.000000   \n",
       "max                   7992.000000   3499.000000   \n",
       "\n",
       "       amazonaccruedpreordersalesrevenue  amazonlumpedpreorderunits  \\\n",
       "count                        6539.000000                6539.000000   \n",
       "mean                          182.564918                   0.210124   \n",
       "std                          2329.724787                  11.978933   \n",
       "min                             0.000000                   0.000000   \n",
       "25%                             0.000000                   0.000000   \n",
       "50%                             0.000000                   0.000000   \n",
       "75%                             0.000000                   0.000000   \n",
       "max                         88478.000000                 685.000000   \n",
       "\n",
       "       lumpedpreordersubscriptionrevenue  applelumpedpreorderrevenue  \\\n",
       "count                             6539.0                      6539.0   \n",
       "mean                                 0.0                         0.0   \n",
       "std                                  0.0                         0.0   \n",
       "min                                  0.0                         0.0   \n",
       "25%                                  0.0                         0.0   \n",
       "50%                                  0.0                         0.0   \n",
       "75%                                  0.0                         0.0   \n",
       "max                                  0.0                         0.0   \n",
       "\n",
       "       minamazonprice  subscriptionunits  amazonpreorderunits  \\\n",
       "count     6539.000000        6539.000000          6539.000000   \n",
       "mean      1070.526686           1.580670             0.210124   \n",
       "std        512.448512           5.063503            11.978933   \n",
       "min          0.000000           0.000000             0.000000   \n",
       "25%        732.000000           0.000000             0.000000   \n",
       "50%        999.000000           0.000000             0.000000   \n",
       "75%       1579.000000           0.000000             0.000000   \n",
       "max       3499.000000         145.000000           685.000000   \n",
       "\n",
       "       amazonpreorderrevenue  amazonaccruedpreordersoldunits  \\\n",
       "count            6539.000000                     6539.000000   \n",
       "mean              155.503288                        0.235204   \n",
       "std              8769.366153                        2.776806   \n",
       "min                 0.000000                        0.000000   \n",
       "25%                 0.000000                        0.000000   \n",
       "50%                 0.000000                        0.000000   \n",
       "75%                 0.000000                        0.000000   \n",
       "max            501420.000000                       82.000000   \n",
       "\n",
       "       amazonpreordersoldunits   salesrevenue  preordersubscriptionrevenue  \\\n",
       "count              6539.000000    6539.000000                       6539.0   \n",
       "mean                  0.210124   16684.069735                          0.0   \n",
       "std                  11.978933   31113.761349                          0.0   \n",
       "min                   0.000000       0.000000                          0.0   \n",
       "25%                   0.000000    1795.000000                          0.0   \n",
       "50%                   0.000000    6800.000000                          0.0   \n",
       "75%                   0.000000   15950.000000                          0.0   \n",
       "max                 685.000000  571692.000000                          0.0   \n",
       "\n",
       "       lumpedpreorderunits  amazonaccruedpreordersubscriptionunits  \\\n",
       "count          6539.000000                                  6539.0   \n",
       "mean              0.210124                                     0.0   \n",
       "std              11.978933                                     0.0   \n",
       "min               0.000000                                     0.0   \n",
       "25%               0.000000                                     0.0   \n",
       "50%               0.000000                                     0.0   \n",
       "75%               0.000000                                     0.0   \n",
       "max             685.000000                                     0.0   \n",
       "\n",
       "       applepreorderunits  subscriptionrevenue    soldunits  \\\n",
       "count              6539.0          6539.000000  6539.000000   \n",
       "mean                  0.0          2363.101392    18.639241   \n",
       "std                   0.0          7569.937102    37.757858   \n",
       "min                   0.0             0.000000     0.000000   \n",
       "25%                   0.0             0.000000     1.000000   \n",
       "50%                   0.0             0.000000     7.000000   \n",
       "75%                   0.0             0.000000    14.000000   \n",
       "max                   0.0        216775.000000   781.000000   \n",
       "\n",
       "       minapplelistprice  barnesandnoblepreorderrevenue  \\\n",
       "count             6539.0                         6539.0   \n",
       "mean                 0.0                            0.0   \n",
       "std                  0.0                            0.0   \n",
       "min                  0.0                            0.0   \n",
       "25%                  0.0                            0.0   \n",
       "50%                  0.0                            0.0   \n",
       "75%                  0.0                            0.0   \n",
       "max                  0.0                            0.0   \n",
       "\n",
       "       amazonsubscriptionunits  amazonlumpedpreordersubscriptionunits  \\\n",
       "count              6539.000000                                 6539.0   \n",
       "mean                  1.580670                                    0.0   \n",
       "std                   5.063503                                    0.0   \n",
       "min                   0.000000                                    0.0   \n",
       "25%                   0.000000                                    0.0   \n",
       "50%                   0.000000                                    0.0   \n",
       "75%                   0.000000                                    0.0   \n",
       "max                 145.000000                                    0.0   \n",
       "\n",
       "       aapreported  accruedpreordersubscriptionrevenue  foundatapple  \\\n",
       "count  6539.000000                              6539.0   6539.000000   \n",
       "mean      0.984095                                 0.0      0.115614   \n",
       "std       0.125116                                 0.0      0.319786   \n",
       "min       0.000000                                 0.0      0.000000   \n",
       "25%       1.000000                                 0.0      0.000000   \n",
       "50%       1.000000                                 0.0      0.000000   \n",
       "75%       1.000000                                 0.0      0.000000   \n",
       "max       1.000000                                 0.0      1.000000   \n",
       "\n",
       "       barnesandnoblelumpedpreorderrevenue  barnesandnoblelumpedpreorderunits  \\\n",
       "count                               6539.0                             6539.0   \n",
       "mean                                   0.0                                0.0   \n",
       "std                                    0.0                                0.0   \n",
       "min                                    0.0                                0.0   \n",
       "25%                                    0.0                                0.0   \n",
       "50%                                    0.0                                0.0   \n",
       "75%                                    0.0                                0.0   \n",
       "max                                    0.0                                0.0   \n",
       "\n",
       "       minbarnesandnobleprice  accruedpreordersalesrevenue  \\\n",
       "count             6539.000000                  6539.000000   \n",
       "mean               128.287047                   182.564918   \n",
       "std                317.132231                  2329.724787   \n",
       "min                  0.000000                     0.000000   \n",
       "25%                  0.000000                     0.000000   \n",
       "50%                  0.000000                     0.000000   \n",
       "75%                  0.000000                     0.000000   \n",
       "max                999.000000                 88478.000000   \n",
       "\n",
       "       maxbarnesandnobleprice  preorderrevenue  pubtrackreported  \\\n",
       "count             6539.000000      6539.000000       6539.000000   \n",
       "mean               128.287047       155.503288          0.984095   \n",
       "std                317.132231      8769.366153          0.125116   \n",
       "min                  0.000000         0.000000          0.000000   \n",
       "25%                  0.000000         0.000000          1.000000   \n",
       "50%                  0.000000         0.000000          1.000000   \n",
       "75%                  0.000000         0.000000          1.000000   \n",
       "max                999.000000    501420.000000          1.000000   \n",
       "\n",
       "       lumpedpreorderrevenue  amazonsoldunits  \\\n",
       "count            6539.000000      6539.000000   \n",
       "mean              155.503288        17.666004   \n",
       "std              8769.366153        36.272170   \n",
       "min                 0.000000         0.000000   \n",
       "25%                 0.000000         1.000000   \n",
       "50%                 0.000000         6.000000   \n",
       "75%                 0.000000        13.000000   \n",
       "max            501420.000000       781.000000   \n",
       "\n",
       "       amazonpreordersubscriptionrevenue  preordersubscriptionunits  \\\n",
       "count                             6539.0                     6539.0   \n",
       "mean                                 0.0                        0.0   \n",
       "std                                  0.0                        0.0   \n",
       "min                                  0.0                        0.0   \n",
       "25%                                  0.0                        0.0   \n",
       "50%                                  0.0                        0.0   \n",
       "75%                                  0.0                        0.0   \n",
       "max                                  0.0                        0.0   \n",
       "\n",
       "       amazonpreordersalesrevenue  maxappleprice   pagelength  \\\n",
       "count                 6539.000000    6539.000000  2558.000000   \n",
       "mean                   155.503288     118.859459   336.532447   \n",
       "std                   8769.366153     323.464108    42.531144   \n",
       "min                      0.000000       0.000000   305.000000   \n",
       "25%                      0.000000       0.000000   320.000000   \n",
       "50%                      0.000000       0.000000   321.000000   \n",
       "75%                      0.000000       0.000000   321.000000   \n",
       "max                 501420.000000     999.000000   496.000000   \n",
       "\n",
       "       pricewassetbypublisher  \n",
       "count                  1531.0  \n",
       "mean                      1.0  \n",
       "std                       0.0  \n",
       "min                       1.0  \n",
       "25%                       1.0  \n",
       "50%                       1.0  \n",
       "75%                       1.0  \n",
       "max                       1.0  "
      ]
     },
     "execution_count": 4,
     "metadata": {},
     "output_type": "execute_result"
    }
   ],
   "source": [
    "data.describe()"
   ]
  },
  {
   "cell_type": "code",
   "execution_count": 5,
   "metadata": {},
   "outputs": [
    {
     "data": {
      "text/html": [
       "<div>\n",
       "<style scoped>\n",
       "    .dataframe tbody tr th:only-of-type {\n",
       "        vertical-align: middle;\n",
       "    }\n",
       "\n",
       "    .dataframe tbody tr th {\n",
       "        vertical-align: top;\n",
       "    }\n",
       "\n",
       "    .dataframe thead th {\n",
       "        text-align: right;\n",
       "    }\n",
       "</style>\n",
       "<table border=\"1\" class=\"dataframe\">\n",
       "  <thead>\n",
       "    <tr style=\"text-align: right;\">\n",
       "      <th></th>\n",
       "      <th>entity</th>\n",
       "      <th>formattype</th>\n",
       "      <th>fromdate</th>\n",
       "      <th>titlecount</th>\n",
       "      <th>titles</th>\n",
       "      <th>todate</th>\n",
       "      <th>author</th>\n",
       "      <th>amazontotalreviews</th>\n",
       "      <th>minappleprice</th>\n",
       "      <th>amazontotalrevenue</th>\n",
       "      <th>accruedpreordersoldunits</th>\n",
       "      <th>amazonlumpedpreordersubscriptionrevenue</th>\n",
       "      <th>preordersalesrevenue</th>\n",
       "      <th>foundatamazon</th>\n",
       "      <th>barnesandnobleaccruedpreorderrevenue</th>\n",
       "      <th>amazonpreordersubscriptionunits</th>\n",
       "      <th>amazonlumpedpreordersalesrevenue</th>\n",
       "      <th>foundatbarnesandnoble</th>\n",
       "      <th>maxprice</th>\n",
       "      <th>lumpedpreordersubscriptionunits</th>\n",
       "      <th>applepreorderrevenue</th>\n",
       "      <th>amazontotalunits</th>\n",
       "      <th>totalrevenue</th>\n",
       "      <th>barnesandnobleaccruedpreorderunits</th>\n",
       "      <th>preorderunits</th>\n",
       "      <th>amazonsubscriptionrevenue</th>\n",
       "      <th>amazonlumpedpreorderrevenue</th>\n",
       "      <th>maxbarnesandnoblelistprice</th>\n",
       "      <th>maxlistprice</th>\n",
       "      <th>barnesandnoblesoldunits</th>\n",
       "      <th>maxapplelistprice</th>\n",
       "      <th>amazonaccruedpreordersubscriptionrevenue</th>\n",
       "      <th>accruedpreordersubscriptionunits</th>\n",
       "      <th>amazonkenpread</th>\n",
       "      <th>applesoldunits</th>\n",
       "      <th>minamazonlistprice</th>\n",
       "      <th>minprice</th>\n",
       "      <th>bookscanreported</th>\n",
       "      <th>appleaccruedpreorderunits</th>\n",
       "      <th>preorderperiod</th>\n",
       "      <th>datepublished</th>\n",
       "      <th>lumpedpreordersoldunits</th>\n",
       "      <th>accruedpreorderrevenue</th>\n",
       "      <th>maxamazonlistprice</th>\n",
       "      <th>amazonaccruedpreorderrevenue</th>\n",
       "      <th>barnesandnoblepreorderunits</th>\n",
       "      <th>amazonaccruedpreorderunits</th>\n",
       "      <th>minbarnesandnoblelistprice</th>\n",
       "      <th>appleaccruedpreorderrevenue</th>\n",
       "      <th>applelumpedpreorderunits</th>\n",
       "      <th>applesalesrevenue</th>\n",
       "      <th>preordersoldunits</th>\n",
       "      <th>lumpedpreordersalesrevenue</th>\n",
       "      <th>totalunits</th>\n",
       "      <th>maxamazonprice</th>\n",
       "      <th>amazonlumpedpreordersoldunits</th>\n",
       "      <th>amazonaveragerating</th>\n",
       "      <th>publishertype</th>\n",
       "      <th>accruedpreorderunits</th>\n",
       "      <th>amazonsalesrevenue</th>\n",
       "      <th>barnesandnoblesalesrevenue</th>\n",
       "      <th>amazoncategories</th>\n",
       "      <th>minlistprice</th>\n",
       "      <th>amazonaccruedpreordersalesrevenue</th>\n",
       "      <th>amazonlumpedpreorderunits</th>\n",
       "      <th>lumpedpreordersubscriptionrevenue</th>\n",
       "      <th>applelumpedpreorderrevenue</th>\n",
       "      <th>minamazonprice</th>\n",
       "      <th>subscriptionunits</th>\n",
       "      <th>amazonpreorderunits</th>\n",
       "      <th>publisherparent</th>\n",
       "      <th>amazonpreorderrevenue</th>\n",
       "      <th>amazonaccruedpreordersoldunits</th>\n",
       "      <th>amazonpreordersoldunits</th>\n",
       "      <th>salesrevenue</th>\n",
       "      <th>preordersubscriptionrevenue</th>\n",
       "      <th>lumpedpreorderunits</th>\n",
       "      <th>amazonaccruedpreordersubscriptionunits</th>\n",
       "      <th>formats</th>\n",
       "      <th>applepreorderunits</th>\n",
       "      <th>subscriptionrevenue</th>\n",
       "      <th>soldunits</th>\n",
       "      <th>minapplelistprice</th>\n",
       "      <th>barnesandnoblepreorderrevenue</th>\n",
       "      <th>amazonsubscriptionunits</th>\n",
       "      <th>amazonlumpedpreordersubscriptionunits</th>\n",
       "      <th>aapreported</th>\n",
       "      <th>accruedpreordersubscriptionrevenue</th>\n",
       "      <th>foundatapple</th>\n",
       "      <th>barnesandnoblelumpedpreorderrevenue</th>\n",
       "      <th>barnesandnoblelumpedpreorderunits</th>\n",
       "      <th>minbarnesandnobleprice</th>\n",
       "      <th>accruedpreordersalesrevenue</th>\n",
       "      <th>maxbarnesandnobleprice</th>\n",
       "      <th>preorderrevenue</th>\n",
       "      <th>pubtrackreported</th>\n",
       "      <th>lumpedpreorderrevenue</th>\n",
       "      <th>amazonsoldunits</th>\n",
       "      <th>amazonpreordersubscriptionrevenue</th>\n",
       "      <th>preordersubscriptionunits</th>\n",
       "      <th>amazonpreordersalesrevenue</th>\n",
       "      <th>maxappleprice</th>\n",
       "      <th>pagelength</th>\n",
       "      <th>pricewassetbypublisher</th>\n",
       "      <th>barnesandnobledistributor</th>\n",
       "      <th>appledistributor</th>\n",
       "    </tr>\n",
       "  </thead>\n",
       "  <tbody>\n",
       "    <tr>\n",
       "      <th>0</th>\n",
       "      <td>Alone in the dark</td>\n",
       "      <td>print</td>\n",
       "      <td>20170418</td>\n",
       "      <td>1</td>\n",
       "      <td>{'amazontotalreviews': 306, 'minappleprice': 0...</td>\n",
       "      <td>20170419</td>\n",
       "      <td>Frith Banbury</td>\n",
       "      <td>306.0</td>\n",
       "      <td>0</td>\n",
       "      <td>0</td>\n",
       "      <td>0</td>\n",
       "      <td>0</td>\n",
       "      <td>0</td>\n",
       "      <td>1</td>\n",
       "      <td>0</td>\n",
       "      <td>0</td>\n",
       "      <td>0</td>\n",
       "      <td>0</td>\n",
       "      <td>0</td>\n",
       "      <td>0</td>\n",
       "      <td>0</td>\n",
       "      <td>6</td>\n",
       "      <td>0</td>\n",
       "      <td>0</td>\n",
       "      <td>0</td>\n",
       "      <td>0</td>\n",
       "      <td>0</td>\n",
       "      <td>0</td>\n",
       "      <td>0</td>\n",
       "      <td>0</td>\n",
       "      <td>0</td>\n",
       "      <td>0</td>\n",
       "      <td>0</td>\n",
       "      <td>0</td>\n",
       "      <td>0</td>\n",
       "      <td>0</td>\n",
       "      <td>0</td>\n",
       "      <td>1</td>\n",
       "      <td>0</td>\n",
       "      <td>0</td>\n",
       "      <td>2009-05-12</td>\n",
       "      <td>0</td>\n",
       "      <td>0</td>\n",
       "      <td>0</td>\n",
       "      <td>0</td>\n",
       "      <td>0</td>\n",
       "      <td>0</td>\n",
       "      <td>0</td>\n",
       "      <td>0</td>\n",
       "      <td>0</td>\n",
       "      <td>0</td>\n",
       "      <td>0</td>\n",
       "      <td>0</td>\n",
       "      <td>6</td>\n",
       "      <td>0</td>\n",
       "      <td>0</td>\n",
       "      <td>410.0</td>\n",
       "      <td>bigfive</td>\n",
       "      <td>0</td>\n",
       "      <td>0</td>\n",
       "      <td>0</td>\n",
       "      <td>Books &gt; Books on CD &gt; Mystery &amp; Thrillers ; Bo...</td>\n",
       "      <td>0</td>\n",
       "      <td>0</td>\n",
       "      <td>0</td>\n",
       "      <td>0</td>\n",
       "      <td>0</td>\n",
       "      <td>0</td>\n",
       "      <td>0</td>\n",
       "      <td>0</td>\n",
       "      <td>Simon &amp; Schuster</td>\n",
       "      <td>0</td>\n",
       "      <td>0</td>\n",
       "      <td>0</td>\n",
       "      <td>0</td>\n",
       "      <td>0</td>\n",
       "      <td>0</td>\n",
       "      <td>0</td>\n",
       "      <td>Audio CD</td>\n",
       "      <td>0</td>\n",
       "      <td>0</td>\n",
       "      <td>6</td>\n",
       "      <td>0</td>\n",
       "      <td>0</td>\n",
       "      <td>0</td>\n",
       "      <td>0</td>\n",
       "      <td>1</td>\n",
       "      <td>0</td>\n",
       "      <td>0</td>\n",
       "      <td>0</td>\n",
       "      <td>0</td>\n",
       "      <td>0</td>\n",
       "      <td>0</td>\n",
       "      <td>0</td>\n",
       "      <td>0</td>\n",
       "      <td>1</td>\n",
       "      <td>0</td>\n",
       "      <td>6</td>\n",
       "      <td>0</td>\n",
       "      <td>0</td>\n",
       "      <td>0</td>\n",
       "      <td>0</td>\n",
       "      <td>NaN</td>\n",
       "      <td>NaN</td>\n",
       "      <td>NaN</td>\n",
       "      <td>NaN</td>\n",
       "    </tr>\n",
       "    <tr>\n",
       "      <th>1</th>\n",
       "      <td>Alone in the dark</td>\n",
       "      <td>print</td>\n",
       "      <td>20170419</td>\n",
       "      <td>1</td>\n",
       "      <td>{'amazontotalreviews': 306, 'minappleprice': 0...</td>\n",
       "      <td>20170420</td>\n",
       "      <td>Frith Banbury</td>\n",
       "      <td>306.0</td>\n",
       "      <td>0</td>\n",
       "      <td>702</td>\n",
       "      <td>0</td>\n",
       "      <td>0</td>\n",
       "      <td>0</td>\n",
       "      <td>1</td>\n",
       "      <td>0</td>\n",
       "      <td>0</td>\n",
       "      <td>0</td>\n",
       "      <td>0</td>\n",
       "      <td>702</td>\n",
       "      <td>0</td>\n",
       "      <td>0</td>\n",
       "      <td>7</td>\n",
       "      <td>702</td>\n",
       "      <td>0</td>\n",
       "      <td>0</td>\n",
       "      <td>0</td>\n",
       "      <td>0</td>\n",
       "      <td>0</td>\n",
       "      <td>702</td>\n",
       "      <td>0</td>\n",
       "      <td>0</td>\n",
       "      <td>0</td>\n",
       "      <td>0</td>\n",
       "      <td>0</td>\n",
       "      <td>0</td>\n",
       "      <td>0</td>\n",
       "      <td>0</td>\n",
       "      <td>1</td>\n",
       "      <td>0</td>\n",
       "      <td>0</td>\n",
       "      <td>2009-05-12</td>\n",
       "      <td>0</td>\n",
       "      <td>0</td>\n",
       "      <td>702</td>\n",
       "      <td>0</td>\n",
       "      <td>0</td>\n",
       "      <td>0</td>\n",
       "      <td>0</td>\n",
       "      <td>0</td>\n",
       "      <td>0</td>\n",
       "      <td>0</td>\n",
       "      <td>0</td>\n",
       "      <td>0</td>\n",
       "      <td>7</td>\n",
       "      <td>702</td>\n",
       "      <td>0</td>\n",
       "      <td>410.0</td>\n",
       "      <td>bigfive</td>\n",
       "      <td>0</td>\n",
       "      <td>702</td>\n",
       "      <td>0</td>\n",
       "      <td>Books &gt; Books on CD &gt; Mystery &amp; Thrillers ; Bo...</td>\n",
       "      <td>0</td>\n",
       "      <td>0</td>\n",
       "      <td>0</td>\n",
       "      <td>0</td>\n",
       "      <td>0</td>\n",
       "      <td>0</td>\n",
       "      <td>0</td>\n",
       "      <td>0</td>\n",
       "      <td>Simon &amp; Schuster</td>\n",
       "      <td>0</td>\n",
       "      <td>0</td>\n",
       "      <td>0</td>\n",
       "      <td>702</td>\n",
       "      <td>0</td>\n",
       "      <td>0</td>\n",
       "      <td>0</td>\n",
       "      <td>Audio CD</td>\n",
       "      <td>0</td>\n",
       "      <td>0</td>\n",
       "      <td>7</td>\n",
       "      <td>0</td>\n",
       "      <td>0</td>\n",
       "      <td>0</td>\n",
       "      <td>0</td>\n",
       "      <td>1</td>\n",
       "      <td>0</td>\n",
       "      <td>0</td>\n",
       "      <td>0</td>\n",
       "      <td>0</td>\n",
       "      <td>0</td>\n",
       "      <td>0</td>\n",
       "      <td>0</td>\n",
       "      <td>0</td>\n",
       "      <td>1</td>\n",
       "      <td>0</td>\n",
       "      <td>7</td>\n",
       "      <td>0</td>\n",
       "      <td>0</td>\n",
       "      <td>0</td>\n",
       "      <td>0</td>\n",
       "      <td>NaN</td>\n",
       "      <td>NaN</td>\n",
       "      <td>NaN</td>\n",
       "      <td>NaN</td>\n",
       "    </tr>\n",
       "    <tr>\n",
       "      <th>2</th>\n",
       "      <td>Alone in the dark</td>\n",
       "      <td>print</td>\n",
       "      <td>20170420</td>\n",
       "      <td>1</td>\n",
       "      <td>{'amazontotalreviews': 306, 'minappleprice': 0...</td>\n",
       "      <td>20170421</td>\n",
       "      <td>Frith Banbury</td>\n",
       "      <td>306.0</td>\n",
       "      <td>0</td>\n",
       "      <td>4914</td>\n",
       "      <td>0</td>\n",
       "      <td>0</td>\n",
       "      <td>0</td>\n",
       "      <td>1</td>\n",
       "      <td>0</td>\n",
       "      <td>0</td>\n",
       "      <td>0</td>\n",
       "      <td>0</td>\n",
       "      <td>702</td>\n",
       "      <td>0</td>\n",
       "      <td>0</td>\n",
       "      <td>7</td>\n",
       "      <td>4914</td>\n",
       "      <td>0</td>\n",
       "      <td>0</td>\n",
       "      <td>0</td>\n",
       "      <td>0</td>\n",
       "      <td>0</td>\n",
       "      <td>702</td>\n",
       "      <td>0</td>\n",
       "      <td>0</td>\n",
       "      <td>0</td>\n",
       "      <td>0</td>\n",
       "      <td>0</td>\n",
       "      <td>0</td>\n",
       "      <td>702</td>\n",
       "      <td>702</td>\n",
       "      <td>1</td>\n",
       "      <td>0</td>\n",
       "      <td>0</td>\n",
       "      <td>2009-05-12</td>\n",
       "      <td>0</td>\n",
       "      <td>0</td>\n",
       "      <td>702</td>\n",
       "      <td>0</td>\n",
       "      <td>0</td>\n",
       "      <td>0</td>\n",
       "      <td>0</td>\n",
       "      <td>0</td>\n",
       "      <td>0</td>\n",
       "      <td>0</td>\n",
       "      <td>0</td>\n",
       "      <td>0</td>\n",
       "      <td>7</td>\n",
       "      <td>702</td>\n",
       "      <td>0</td>\n",
       "      <td>410.0</td>\n",
       "      <td>bigfive</td>\n",
       "      <td>0</td>\n",
       "      <td>4914</td>\n",
       "      <td>0</td>\n",
       "      <td>Books &gt; Books on CD &gt; Mystery &amp; Thrillers ; Bo...</td>\n",
       "      <td>702</td>\n",
       "      <td>0</td>\n",
       "      <td>0</td>\n",
       "      <td>0</td>\n",
       "      <td>0</td>\n",
       "      <td>702</td>\n",
       "      <td>0</td>\n",
       "      <td>0</td>\n",
       "      <td>Simon &amp; Schuster</td>\n",
       "      <td>0</td>\n",
       "      <td>0</td>\n",
       "      <td>0</td>\n",
       "      <td>4914</td>\n",
       "      <td>0</td>\n",
       "      <td>0</td>\n",
       "      <td>0</td>\n",
       "      <td>Audio CD</td>\n",
       "      <td>0</td>\n",
       "      <td>0</td>\n",
       "      <td>7</td>\n",
       "      <td>0</td>\n",
       "      <td>0</td>\n",
       "      <td>0</td>\n",
       "      <td>0</td>\n",
       "      <td>1</td>\n",
       "      <td>0</td>\n",
       "      <td>0</td>\n",
       "      <td>0</td>\n",
       "      <td>0</td>\n",
       "      <td>0</td>\n",
       "      <td>0</td>\n",
       "      <td>0</td>\n",
       "      <td>0</td>\n",
       "      <td>1</td>\n",
       "      <td>0</td>\n",
       "      <td>7</td>\n",
       "      <td>0</td>\n",
       "      <td>0</td>\n",
       "      <td>0</td>\n",
       "      <td>0</td>\n",
       "      <td>NaN</td>\n",
       "      <td>NaN</td>\n",
       "      <td>NaN</td>\n",
       "      <td>NaN</td>\n",
       "    </tr>\n",
       "    <tr>\n",
       "      <th>3</th>\n",
       "      <td>Alone in the dark</td>\n",
       "      <td>print</td>\n",
       "      <td>20170421</td>\n",
       "      <td>1</td>\n",
       "      <td>{'amazontotalreviews': 306, 'minappleprice': 0...</td>\n",
       "      <td>20170422</td>\n",
       "      <td>Frith Banbury</td>\n",
       "      <td>306.0</td>\n",
       "      <td>0</td>\n",
       "      <td>4212</td>\n",
       "      <td>0</td>\n",
       "      <td>0</td>\n",
       "      <td>0</td>\n",
       "      <td>1</td>\n",
       "      <td>0</td>\n",
       "      <td>0</td>\n",
       "      <td>0</td>\n",
       "      <td>0</td>\n",
       "      <td>702</td>\n",
       "      <td>0</td>\n",
       "      <td>0</td>\n",
       "      <td>6</td>\n",
       "      <td>4212</td>\n",
       "      <td>0</td>\n",
       "      <td>0</td>\n",
       "      <td>0</td>\n",
       "      <td>0</td>\n",
       "      <td>0</td>\n",
       "      <td>702</td>\n",
       "      <td>0</td>\n",
       "      <td>0</td>\n",
       "      <td>0</td>\n",
       "      <td>0</td>\n",
       "      <td>0</td>\n",
       "      <td>0</td>\n",
       "      <td>702</td>\n",
       "      <td>702</td>\n",
       "      <td>1</td>\n",
       "      <td>0</td>\n",
       "      <td>0</td>\n",
       "      <td>2009-05-12</td>\n",
       "      <td>0</td>\n",
       "      <td>0</td>\n",
       "      <td>702</td>\n",
       "      <td>0</td>\n",
       "      <td>0</td>\n",
       "      <td>0</td>\n",
       "      <td>0</td>\n",
       "      <td>0</td>\n",
       "      <td>0</td>\n",
       "      <td>0</td>\n",
       "      <td>0</td>\n",
       "      <td>0</td>\n",
       "      <td>6</td>\n",
       "      <td>702</td>\n",
       "      <td>0</td>\n",
       "      <td>410.0</td>\n",
       "      <td>bigfive</td>\n",
       "      <td>0</td>\n",
       "      <td>4212</td>\n",
       "      <td>0</td>\n",
       "      <td>Books &gt; Books on CD &gt; Mystery &amp; Thrillers ; Bo...</td>\n",
       "      <td>702</td>\n",
       "      <td>0</td>\n",
       "      <td>0</td>\n",
       "      <td>0</td>\n",
       "      <td>0</td>\n",
       "      <td>702</td>\n",
       "      <td>0</td>\n",
       "      <td>0</td>\n",
       "      <td>Simon &amp; Schuster</td>\n",
       "      <td>0</td>\n",
       "      <td>0</td>\n",
       "      <td>0</td>\n",
       "      <td>4212</td>\n",
       "      <td>0</td>\n",
       "      <td>0</td>\n",
       "      <td>0</td>\n",
       "      <td>Audio CD</td>\n",
       "      <td>0</td>\n",
       "      <td>0</td>\n",
       "      <td>6</td>\n",
       "      <td>0</td>\n",
       "      <td>0</td>\n",
       "      <td>0</td>\n",
       "      <td>0</td>\n",
       "      <td>1</td>\n",
       "      <td>0</td>\n",
       "      <td>0</td>\n",
       "      <td>0</td>\n",
       "      <td>0</td>\n",
       "      <td>0</td>\n",
       "      <td>0</td>\n",
       "      <td>0</td>\n",
       "      <td>0</td>\n",
       "      <td>1</td>\n",
       "      <td>0</td>\n",
       "      <td>6</td>\n",
       "      <td>0</td>\n",
       "      <td>0</td>\n",
       "      <td>0</td>\n",
       "      <td>0</td>\n",
       "      <td>NaN</td>\n",
       "      <td>NaN</td>\n",
       "      <td>NaN</td>\n",
       "      <td>NaN</td>\n",
       "    </tr>\n",
       "    <tr>\n",
       "      <th>4</th>\n",
       "      <td>Alone in the dark</td>\n",
       "      <td>print</td>\n",
       "      <td>20170422</td>\n",
       "      <td>1</td>\n",
       "      <td>{'amazontotalreviews': 306, 'minappleprice': 0...</td>\n",
       "      <td>20170423</td>\n",
       "      <td>Frith Banbury</td>\n",
       "      <td>306.0</td>\n",
       "      <td>0</td>\n",
       "      <td>702</td>\n",
       "      <td>0</td>\n",
       "      <td>0</td>\n",
       "      <td>0</td>\n",
       "      <td>1</td>\n",
       "      <td>0</td>\n",
       "      <td>0</td>\n",
       "      <td>0</td>\n",
       "      <td>0</td>\n",
       "      <td>702</td>\n",
       "      <td>0</td>\n",
       "      <td>0</td>\n",
       "      <td>1</td>\n",
       "      <td>702</td>\n",
       "      <td>0</td>\n",
       "      <td>0</td>\n",
       "      <td>0</td>\n",
       "      <td>0</td>\n",
       "      <td>0</td>\n",
       "      <td>702</td>\n",
       "      <td>0</td>\n",
       "      <td>0</td>\n",
       "      <td>0</td>\n",
       "      <td>0</td>\n",
       "      <td>0</td>\n",
       "      <td>0</td>\n",
       "      <td>702</td>\n",
       "      <td>702</td>\n",
       "      <td>1</td>\n",
       "      <td>0</td>\n",
       "      <td>0</td>\n",
       "      <td>2009-05-12</td>\n",
       "      <td>0</td>\n",
       "      <td>0</td>\n",
       "      <td>702</td>\n",
       "      <td>0</td>\n",
       "      <td>0</td>\n",
       "      <td>0</td>\n",
       "      <td>0</td>\n",
       "      <td>0</td>\n",
       "      <td>0</td>\n",
       "      <td>0</td>\n",
       "      <td>0</td>\n",
       "      <td>0</td>\n",
       "      <td>1</td>\n",
       "      <td>702</td>\n",
       "      <td>0</td>\n",
       "      <td>410.0</td>\n",
       "      <td>bigfive</td>\n",
       "      <td>0</td>\n",
       "      <td>702</td>\n",
       "      <td>0</td>\n",
       "      <td>Books &gt; Books on CD &gt; Mystery &amp; Thrillers ; Bo...</td>\n",
       "      <td>702</td>\n",
       "      <td>0</td>\n",
       "      <td>0</td>\n",
       "      <td>0</td>\n",
       "      <td>0</td>\n",
       "      <td>702</td>\n",
       "      <td>0</td>\n",
       "      <td>0</td>\n",
       "      <td>Simon &amp; Schuster</td>\n",
       "      <td>0</td>\n",
       "      <td>0</td>\n",
       "      <td>0</td>\n",
       "      <td>702</td>\n",
       "      <td>0</td>\n",
       "      <td>0</td>\n",
       "      <td>0</td>\n",
       "      <td>Audio CD</td>\n",
       "      <td>0</td>\n",
       "      <td>0</td>\n",
       "      <td>1</td>\n",
       "      <td>0</td>\n",
       "      <td>0</td>\n",
       "      <td>0</td>\n",
       "      <td>0</td>\n",
       "      <td>1</td>\n",
       "      <td>0</td>\n",
       "      <td>0</td>\n",
       "      <td>0</td>\n",
       "      <td>0</td>\n",
       "      <td>0</td>\n",
       "      <td>0</td>\n",
       "      <td>0</td>\n",
       "      <td>0</td>\n",
       "      <td>1</td>\n",
       "      <td>0</td>\n",
       "      <td>1</td>\n",
       "      <td>0</td>\n",
       "      <td>0</td>\n",
       "      <td>0</td>\n",
       "      <td>0</td>\n",
       "      <td>NaN</td>\n",
       "      <td>NaN</td>\n",
       "      <td>NaN</td>\n",
       "      <td>NaN</td>\n",
       "    </tr>\n",
       "  </tbody>\n",
       "</table>\n",
       "</div>"
      ],
      "text/plain": [
       "              entity formattype  fromdate  titlecount  \\\n",
       "0  Alone in the dark      print  20170418           1   \n",
       "1  Alone in the dark      print  20170419           1   \n",
       "2  Alone in the dark      print  20170420           1   \n",
       "3  Alone in the dark      print  20170421           1   \n",
       "4  Alone in the dark      print  20170422           1   \n",
       "\n",
       "                                              titles    todate         author  \\\n",
       "0  {'amazontotalreviews': 306, 'minappleprice': 0...  20170419  Frith Banbury   \n",
       "1  {'amazontotalreviews': 306, 'minappleprice': 0...  20170420  Frith Banbury   \n",
       "2  {'amazontotalreviews': 306, 'minappleprice': 0...  20170421  Frith Banbury   \n",
       "3  {'amazontotalreviews': 306, 'minappleprice': 0...  20170422  Frith Banbury   \n",
       "4  {'amazontotalreviews': 306, 'minappleprice': 0...  20170423  Frith Banbury   \n",
       "\n",
       "   amazontotalreviews  minappleprice  amazontotalrevenue  \\\n",
       "0               306.0              0                   0   \n",
       "1               306.0              0                 702   \n",
       "2               306.0              0                4914   \n",
       "3               306.0              0                4212   \n",
       "4               306.0              0                 702   \n",
       "\n",
       "   accruedpreordersoldunits  amazonlumpedpreordersubscriptionrevenue  \\\n",
       "0                         0                                        0   \n",
       "1                         0                                        0   \n",
       "2                         0                                        0   \n",
       "3                         0                                        0   \n",
       "4                         0                                        0   \n",
       "\n",
       "   preordersalesrevenue  foundatamazon  barnesandnobleaccruedpreorderrevenue  \\\n",
       "0                     0              1                                     0   \n",
       "1                     0              1                                     0   \n",
       "2                     0              1                                     0   \n",
       "3                     0              1                                     0   \n",
       "4                     0              1                                     0   \n",
       "\n",
       "   amazonpreordersubscriptionunits  amazonlumpedpreordersalesrevenue  \\\n",
       "0                                0                                 0   \n",
       "1                                0                                 0   \n",
       "2                                0                                 0   \n",
       "3                                0                                 0   \n",
       "4                                0                                 0   \n",
       "\n",
       "   foundatbarnesandnoble  maxprice  lumpedpreordersubscriptionunits  \\\n",
       "0                      0         0                                0   \n",
       "1                      0       702                                0   \n",
       "2                      0       702                                0   \n",
       "3                      0       702                                0   \n",
       "4                      0       702                                0   \n",
       "\n",
       "   applepreorderrevenue  amazontotalunits  totalrevenue  \\\n",
       "0                     0                 6             0   \n",
       "1                     0                 7           702   \n",
       "2                     0                 7          4914   \n",
       "3                     0                 6          4212   \n",
       "4                     0                 1           702   \n",
       "\n",
       "   barnesandnobleaccruedpreorderunits  preorderunits  \\\n",
       "0                                   0              0   \n",
       "1                                   0              0   \n",
       "2                                   0              0   \n",
       "3                                   0              0   \n",
       "4                                   0              0   \n",
       "\n",
       "   amazonsubscriptionrevenue  amazonlumpedpreorderrevenue  \\\n",
       "0                          0                            0   \n",
       "1                          0                            0   \n",
       "2                          0                            0   \n",
       "3                          0                            0   \n",
       "4                          0                            0   \n",
       "\n",
       "   maxbarnesandnoblelistprice  maxlistprice  barnesandnoblesoldunits  \\\n",
       "0                           0             0                        0   \n",
       "1                           0           702                        0   \n",
       "2                           0           702                        0   \n",
       "3                           0           702                        0   \n",
       "4                           0           702                        0   \n",
       "\n",
       "   maxapplelistprice  amazonaccruedpreordersubscriptionrevenue  \\\n",
       "0                  0                                         0   \n",
       "1                  0                                         0   \n",
       "2                  0                                         0   \n",
       "3                  0                                         0   \n",
       "4                  0                                         0   \n",
       "\n",
       "   accruedpreordersubscriptionunits  amazonkenpread  applesoldunits  \\\n",
       "0                                 0               0               0   \n",
       "1                                 0               0               0   \n",
       "2                                 0               0               0   \n",
       "3                                 0               0               0   \n",
       "4                                 0               0               0   \n",
       "\n",
       "   minamazonlistprice  minprice  bookscanreported  appleaccruedpreorderunits  \\\n",
       "0                   0         0                 1                          0   \n",
       "1                   0         0                 1                          0   \n",
       "2                 702       702                 1                          0   \n",
       "3                 702       702                 1                          0   \n",
       "4                 702       702                 1                          0   \n",
       "\n",
       "   preorderperiod datepublished  lumpedpreordersoldunits  \\\n",
       "0               0    2009-05-12                        0   \n",
       "1               0    2009-05-12                        0   \n",
       "2               0    2009-05-12                        0   \n",
       "3               0    2009-05-12                        0   \n",
       "4               0    2009-05-12                        0   \n",
       "\n",
       "   accruedpreorderrevenue  maxamazonlistprice  amazonaccruedpreorderrevenue  \\\n",
       "0                       0                   0                             0   \n",
       "1                       0                 702                             0   \n",
       "2                       0                 702                             0   \n",
       "3                       0                 702                             0   \n",
       "4                       0                 702                             0   \n",
       "\n",
       "   barnesandnoblepreorderunits  amazonaccruedpreorderunits  \\\n",
       "0                            0                           0   \n",
       "1                            0                           0   \n",
       "2                            0                           0   \n",
       "3                            0                           0   \n",
       "4                            0                           0   \n",
       "\n",
       "   minbarnesandnoblelistprice  appleaccruedpreorderrevenue  \\\n",
       "0                           0                            0   \n",
       "1                           0                            0   \n",
       "2                           0                            0   \n",
       "3                           0                            0   \n",
       "4                           0                            0   \n",
       "\n",
       "   applelumpedpreorderunits  applesalesrevenue  preordersoldunits  \\\n",
       "0                         0                  0                  0   \n",
       "1                         0                  0                  0   \n",
       "2                         0                  0                  0   \n",
       "3                         0                  0                  0   \n",
       "4                         0                  0                  0   \n",
       "\n",
       "   lumpedpreordersalesrevenue  totalunits  maxamazonprice  \\\n",
       "0                           0           6               0   \n",
       "1                           0           7             702   \n",
       "2                           0           7             702   \n",
       "3                           0           6             702   \n",
       "4                           0           1             702   \n",
       "\n",
       "   amazonlumpedpreordersoldunits  amazonaveragerating publishertype  \\\n",
       "0                              0                410.0       bigfive   \n",
       "1                              0                410.0       bigfive   \n",
       "2                              0                410.0       bigfive   \n",
       "3                              0                410.0       bigfive   \n",
       "4                              0                410.0       bigfive   \n",
       "\n",
       "   accruedpreorderunits  amazonsalesrevenue  barnesandnoblesalesrevenue  \\\n",
       "0                     0                   0                           0   \n",
       "1                     0                 702                           0   \n",
       "2                     0                4914                           0   \n",
       "3                     0                4212                           0   \n",
       "4                     0                 702                           0   \n",
       "\n",
       "                                    amazoncategories  minlistprice  \\\n",
       "0  Books > Books on CD > Mystery & Thrillers ; Bo...             0   \n",
       "1  Books > Books on CD > Mystery & Thrillers ; Bo...             0   \n",
       "2  Books > Books on CD > Mystery & Thrillers ; Bo...           702   \n",
       "3  Books > Books on CD > Mystery & Thrillers ; Bo...           702   \n",
       "4  Books > Books on CD > Mystery & Thrillers ; Bo...           702   \n",
       "\n",
       "   amazonaccruedpreordersalesrevenue  amazonlumpedpreorderunits  \\\n",
       "0                                  0                          0   \n",
       "1                                  0                          0   \n",
       "2                                  0                          0   \n",
       "3                                  0                          0   \n",
       "4                                  0                          0   \n",
       "\n",
       "   lumpedpreordersubscriptionrevenue  applelumpedpreorderrevenue  \\\n",
       "0                                  0                           0   \n",
       "1                                  0                           0   \n",
       "2                                  0                           0   \n",
       "3                                  0                           0   \n",
       "4                                  0                           0   \n",
       "\n",
       "   minamazonprice  subscriptionunits  amazonpreorderunits   publisherparent  \\\n",
       "0               0                  0                    0  Simon & Schuster   \n",
       "1               0                  0                    0  Simon & Schuster   \n",
       "2             702                  0                    0  Simon & Schuster   \n",
       "3             702                  0                    0  Simon & Schuster   \n",
       "4             702                  0                    0  Simon & Schuster   \n",
       "\n",
       "   amazonpreorderrevenue  amazonaccruedpreordersoldunits  \\\n",
       "0                      0                               0   \n",
       "1                      0                               0   \n",
       "2                      0                               0   \n",
       "3                      0                               0   \n",
       "4                      0                               0   \n",
       "\n",
       "   amazonpreordersoldunits  salesrevenue  preordersubscriptionrevenue  \\\n",
       "0                        0             0                            0   \n",
       "1                        0           702                            0   \n",
       "2                        0          4914                            0   \n",
       "3                        0          4212                            0   \n",
       "4                        0           702                            0   \n",
       "\n",
       "   lumpedpreorderunits  amazonaccruedpreordersubscriptionunits   formats  \\\n",
       "0                    0                                       0  Audio CD   \n",
       "1                    0                                       0  Audio CD   \n",
       "2                    0                                       0  Audio CD   \n",
       "3                    0                                       0  Audio CD   \n",
       "4                    0                                       0  Audio CD   \n",
       "\n",
       "   applepreorderunits  subscriptionrevenue  soldunits  minapplelistprice  \\\n",
       "0                   0                    0          6                  0   \n",
       "1                   0                    0          7                  0   \n",
       "2                   0                    0          7                  0   \n",
       "3                   0                    0          6                  0   \n",
       "4                   0                    0          1                  0   \n",
       "\n",
       "   barnesandnoblepreorderrevenue  amazonsubscriptionunits  \\\n",
       "0                              0                        0   \n",
       "1                              0                        0   \n",
       "2                              0                        0   \n",
       "3                              0                        0   \n",
       "4                              0                        0   \n",
       "\n",
       "   amazonlumpedpreordersubscriptionunits  aapreported  \\\n",
       "0                                      0            1   \n",
       "1                                      0            1   \n",
       "2                                      0            1   \n",
       "3                                      0            1   \n",
       "4                                      0            1   \n",
       "\n",
       "   accruedpreordersubscriptionrevenue  foundatapple  \\\n",
       "0                                   0             0   \n",
       "1                                   0             0   \n",
       "2                                   0             0   \n",
       "3                                   0             0   \n",
       "4                                   0             0   \n",
       "\n",
       "   barnesandnoblelumpedpreorderrevenue  barnesandnoblelumpedpreorderunits  \\\n",
       "0                                    0                                  0   \n",
       "1                                    0                                  0   \n",
       "2                                    0                                  0   \n",
       "3                                    0                                  0   \n",
       "4                                    0                                  0   \n",
       "\n",
       "   minbarnesandnobleprice  accruedpreordersalesrevenue  \\\n",
       "0                       0                            0   \n",
       "1                       0                            0   \n",
       "2                       0                            0   \n",
       "3                       0                            0   \n",
       "4                       0                            0   \n",
       "\n",
       "   maxbarnesandnobleprice  preorderrevenue  pubtrackreported  \\\n",
       "0                       0                0                 1   \n",
       "1                       0                0                 1   \n",
       "2                       0                0                 1   \n",
       "3                       0                0                 1   \n",
       "4                       0                0                 1   \n",
       "\n",
       "   lumpedpreorderrevenue  amazonsoldunits  amazonpreordersubscriptionrevenue  \\\n",
       "0                      0                6                                  0   \n",
       "1                      0                7                                  0   \n",
       "2                      0                7                                  0   \n",
       "3                      0                6                                  0   \n",
       "4                      0                1                                  0   \n",
       "\n",
       "   preordersubscriptionunits  amazonpreordersalesrevenue  maxappleprice  \\\n",
       "0                          0                           0              0   \n",
       "1                          0                           0              0   \n",
       "2                          0                           0              0   \n",
       "3                          0                           0              0   \n",
       "4                          0                           0              0   \n",
       "\n",
       "   pagelength  pricewassetbypublisher barnesandnobledistributor  \\\n",
       "0         NaN                     NaN                       NaN   \n",
       "1         NaN                     NaN                       NaN   \n",
       "2         NaN                     NaN                       NaN   \n",
       "3         NaN                     NaN                       NaN   \n",
       "4         NaN                     NaN                       NaN   \n",
       "\n",
       "  appledistributor  \n",
       "0              NaN  \n",
       "1              NaN  \n",
       "2              NaN  \n",
       "3              NaN  \n",
       "4              NaN  "
      ]
     },
     "execution_count": 5,
     "metadata": {},
     "output_type": "execute_result"
    }
   ],
   "source": [
    "#data.head()"
   ]
  },
  {
   "cell_type": "code",
   "execution_count": 6,
   "metadata": {
    "scrolled": true
   },
   "outputs": [
    {
     "data": {
      "text/html": [
       "<div>\n",
       "<style scoped>\n",
       "    .dataframe tbody tr th:only-of-type {\n",
       "        vertical-align: middle;\n",
       "    }\n",
       "\n",
       "    .dataframe tbody tr th {\n",
       "        vertical-align: top;\n",
       "    }\n",
       "\n",
       "    .dataframe thead th {\n",
       "        text-align: right;\n",
       "    }\n",
       "</style>\n",
       "<table border=\"1\" class=\"dataframe\">\n",
       "  <thead>\n",
       "    <tr style=\"text-align: right;\">\n",
       "      <th></th>\n",
       "      <th>entity</th>\n",
       "      <th>formattype</th>\n",
       "      <th>fromdate</th>\n",
       "      <th>titlecount</th>\n",
       "      <th>titles</th>\n",
       "      <th>todate</th>\n",
       "      <th>author</th>\n",
       "      <th>amazontotalreviews</th>\n",
       "      <th>minappleprice</th>\n",
       "      <th>amazontotalrevenue</th>\n",
       "      <th>accruedpreordersoldunits</th>\n",
       "      <th>amazonlumpedpreordersubscriptionrevenue</th>\n",
       "      <th>preordersalesrevenue</th>\n",
       "      <th>foundatamazon</th>\n",
       "      <th>barnesandnobleaccruedpreorderrevenue</th>\n",
       "      <th>amazonpreordersubscriptionunits</th>\n",
       "      <th>amazonlumpedpreordersalesrevenue</th>\n",
       "      <th>foundatbarnesandnoble</th>\n",
       "      <th>maxprice</th>\n",
       "      <th>lumpedpreordersubscriptionunits</th>\n",
       "      <th>applepreorderrevenue</th>\n",
       "      <th>amazontotalunits</th>\n",
       "      <th>totalrevenue</th>\n",
       "      <th>barnesandnobleaccruedpreorderunits</th>\n",
       "      <th>preorderunits</th>\n",
       "      <th>amazonsubscriptionrevenue</th>\n",
       "      <th>amazonlumpedpreorderrevenue</th>\n",
       "      <th>maxbarnesandnoblelistprice</th>\n",
       "      <th>maxlistprice</th>\n",
       "      <th>barnesandnoblesoldunits</th>\n",
       "      <th>maxapplelistprice</th>\n",
       "      <th>amazonaccruedpreordersubscriptionrevenue</th>\n",
       "      <th>accruedpreordersubscriptionunits</th>\n",
       "      <th>amazonkenpread</th>\n",
       "      <th>applesoldunits</th>\n",
       "      <th>minamazonlistprice</th>\n",
       "      <th>minprice</th>\n",
       "      <th>bookscanreported</th>\n",
       "      <th>appleaccruedpreorderunits</th>\n",
       "      <th>preorderperiod</th>\n",
       "      <th>datepublished</th>\n",
       "      <th>lumpedpreordersoldunits</th>\n",
       "      <th>accruedpreorderrevenue</th>\n",
       "      <th>maxamazonlistprice</th>\n",
       "      <th>amazonaccruedpreorderrevenue</th>\n",
       "      <th>barnesandnoblepreorderunits</th>\n",
       "      <th>amazonaccruedpreorderunits</th>\n",
       "      <th>minbarnesandnoblelistprice</th>\n",
       "      <th>appleaccruedpreorderrevenue</th>\n",
       "      <th>applelumpedpreorderunits</th>\n",
       "      <th>applesalesrevenue</th>\n",
       "      <th>preordersoldunits</th>\n",
       "      <th>lumpedpreordersalesrevenue</th>\n",
       "      <th>totalunits</th>\n",
       "      <th>maxamazonprice</th>\n",
       "      <th>amazonlumpedpreordersoldunits</th>\n",
       "      <th>amazonaveragerating</th>\n",
       "      <th>publishertype</th>\n",
       "      <th>accruedpreorderunits</th>\n",
       "      <th>amazonsalesrevenue</th>\n",
       "      <th>barnesandnoblesalesrevenue</th>\n",
       "      <th>amazoncategories</th>\n",
       "      <th>minlistprice</th>\n",
       "      <th>amazonaccruedpreordersalesrevenue</th>\n",
       "      <th>amazonlumpedpreorderunits</th>\n",
       "      <th>lumpedpreordersubscriptionrevenue</th>\n",
       "      <th>applelumpedpreorderrevenue</th>\n",
       "      <th>minamazonprice</th>\n",
       "      <th>subscriptionunits</th>\n",
       "      <th>amazonpreorderunits</th>\n",
       "      <th>publisherparent</th>\n",
       "      <th>amazonpreorderrevenue</th>\n",
       "      <th>amazonaccruedpreordersoldunits</th>\n",
       "      <th>amazonpreordersoldunits</th>\n",
       "      <th>salesrevenue</th>\n",
       "      <th>preordersubscriptionrevenue</th>\n",
       "      <th>lumpedpreorderunits</th>\n",
       "      <th>amazonaccruedpreordersubscriptionunits</th>\n",
       "      <th>formats</th>\n",
       "      <th>applepreorderunits</th>\n",
       "      <th>subscriptionrevenue</th>\n",
       "      <th>soldunits</th>\n",
       "      <th>minapplelistprice</th>\n",
       "      <th>barnesandnoblepreorderrevenue</th>\n",
       "      <th>amazonsubscriptionunits</th>\n",
       "      <th>amazonlumpedpreordersubscriptionunits</th>\n",
       "      <th>aapreported</th>\n",
       "      <th>accruedpreordersubscriptionrevenue</th>\n",
       "      <th>foundatapple</th>\n",
       "      <th>barnesandnoblelumpedpreorderrevenue</th>\n",
       "      <th>barnesandnoblelumpedpreorderunits</th>\n",
       "      <th>minbarnesandnobleprice</th>\n",
       "      <th>accruedpreordersalesrevenue</th>\n",
       "      <th>maxbarnesandnobleprice</th>\n",
       "      <th>preorderrevenue</th>\n",
       "      <th>pubtrackreported</th>\n",
       "      <th>lumpedpreorderrevenue</th>\n",
       "      <th>amazonsoldunits</th>\n",
       "      <th>amazonpreordersubscriptionrevenue</th>\n",
       "      <th>preordersubscriptionunits</th>\n",
       "      <th>amazonpreordersalesrevenue</th>\n",
       "      <th>maxappleprice</th>\n",
       "      <th>pagelength</th>\n",
       "      <th>pricewassetbypublisher</th>\n",
       "      <th>barnesandnobledistributor</th>\n",
       "      <th>appledistributor</th>\n",
       "    </tr>\n",
       "  </thead>\n",
       "  <tbody>\n",
       "    <tr>\n",
       "      <th>6534</th>\n",
       "      <td>The Walking Dead</td>\n",
       "      <td>audio</td>\n",
       "      <td>20190822</td>\n",
       "      <td>1</td>\n",
       "      <td>{'amazontotalreviews': 275, 'minappleprice': 0...</td>\n",
       "      <td>20190823</td>\n",
       "      <td>Matthew Murdock</td>\n",
       "      <td>275.0</td>\n",
       "      <td>0</td>\n",
       "      <td>81835</td>\n",
       "      <td>0</td>\n",
       "      <td>0</td>\n",
       "      <td>0</td>\n",
       "      <td>1</td>\n",
       "      <td>0</td>\n",
       "      <td>0</td>\n",
       "      <td>0</td>\n",
       "      <td>0</td>\n",
       "      <td>1599</td>\n",
       "      <td>0</td>\n",
       "      <td>0</td>\n",
       "      <td>53</td>\n",
       "      <td>81835</td>\n",
       "      <td>0</td>\n",
       "      <td>0</td>\n",
       "      <td>41860</td>\n",
       "      <td>0</td>\n",
       "      <td>0</td>\n",
       "      <td>1700</td>\n",
       "      <td>0</td>\n",
       "      <td>0</td>\n",
       "      <td>0</td>\n",
       "      <td>0</td>\n",
       "      <td>0</td>\n",
       "      <td>0</td>\n",
       "      <td>1700</td>\n",
       "      <td>1599</td>\n",
       "      <td>0</td>\n",
       "      <td>0</td>\n",
       "      <td>0</td>\n",
       "      <td>2015-09-29</td>\n",
       "      <td>0</td>\n",
       "      <td>0</td>\n",
       "      <td>1700</td>\n",
       "      <td>0</td>\n",
       "      <td>0</td>\n",
       "      <td>0</td>\n",
       "      <td>0</td>\n",
       "      <td>0</td>\n",
       "      <td>0</td>\n",
       "      <td>0</td>\n",
       "      <td>0</td>\n",
       "      <td>0</td>\n",
       "      <td>53</td>\n",
       "      <td>1599</td>\n",
       "      <td>0</td>\n",
       "      <td>470.0</td>\n",
       "      <td>bigfive</td>\n",
       "      <td>0</td>\n",
       "      <td>39975</td>\n",
       "      <td>0</td>\n",
       "      <td>Books &gt; Teens &gt; Literature &amp; Fiction &gt; Social ...</td>\n",
       "      <td>1700</td>\n",
       "      <td>0</td>\n",
       "      <td>0</td>\n",
       "      <td>0</td>\n",
       "      <td>0</td>\n",
       "      <td>1599</td>\n",
       "      <td>28</td>\n",
       "      <td>0</td>\n",
       "      <td>Simon &amp; Schuster</td>\n",
       "      <td>0</td>\n",
       "      <td>0</td>\n",
       "      <td>0</td>\n",
       "      <td>39975</td>\n",
       "      <td>0</td>\n",
       "      <td>0</td>\n",
       "      <td>0</td>\n",
       "      <td>Audible Audiobook</td>\n",
       "      <td>0</td>\n",
       "      <td>41860</td>\n",
       "      <td>25</td>\n",
       "      <td>0</td>\n",
       "      <td>0</td>\n",
       "      <td>28</td>\n",
       "      <td>0</td>\n",
       "      <td>1</td>\n",
       "      <td>0</td>\n",
       "      <td>0</td>\n",
       "      <td>0</td>\n",
       "      <td>0</td>\n",
       "      <td>0</td>\n",
       "      <td>0</td>\n",
       "      <td>0</td>\n",
       "      <td>0</td>\n",
       "      <td>1</td>\n",
       "      <td>0</td>\n",
       "      <td>25</td>\n",
       "      <td>0</td>\n",
       "      <td>0</td>\n",
       "      <td>0</td>\n",
       "      <td>0</td>\n",
       "      <td>395.0</td>\n",
       "      <td>NaN</td>\n",
       "      <td>NaN</td>\n",
       "      <td>NaN</td>\n",
       "    </tr>\n",
       "    <tr>\n",
       "      <th>6535</th>\n",
       "      <td>The Walking Dead</td>\n",
       "      <td>audio</td>\n",
       "      <td>20190823</td>\n",
       "      <td>1</td>\n",
       "      <td>{'amazontotalreviews': 275, 'minappleprice': 0...</td>\n",
       "      <td>20190824</td>\n",
       "      <td>Matthew Murdock</td>\n",
       "      <td>275.0</td>\n",
       "      <td>0</td>\n",
       "      <td>18460</td>\n",
       "      <td>0</td>\n",
       "      <td>0</td>\n",
       "      <td>0</td>\n",
       "      <td>1</td>\n",
       "      <td>0</td>\n",
       "      <td>0</td>\n",
       "      <td>0</td>\n",
       "      <td>0</td>\n",
       "      <td>1599</td>\n",
       "      <td>0</td>\n",
       "      <td>0</td>\n",
       "      <td>12</td>\n",
       "      <td>18460</td>\n",
       "      <td>0</td>\n",
       "      <td>0</td>\n",
       "      <td>10465</td>\n",
       "      <td>0</td>\n",
       "      <td>0</td>\n",
       "      <td>1700</td>\n",
       "      <td>0</td>\n",
       "      <td>0</td>\n",
       "      <td>0</td>\n",
       "      <td>0</td>\n",
       "      <td>0</td>\n",
       "      <td>0</td>\n",
       "      <td>1700</td>\n",
       "      <td>1599</td>\n",
       "      <td>0</td>\n",
       "      <td>0</td>\n",
       "      <td>0</td>\n",
       "      <td>2015-09-29</td>\n",
       "      <td>0</td>\n",
       "      <td>0</td>\n",
       "      <td>1700</td>\n",
       "      <td>0</td>\n",
       "      <td>0</td>\n",
       "      <td>0</td>\n",
       "      <td>0</td>\n",
       "      <td>0</td>\n",
       "      <td>0</td>\n",
       "      <td>0</td>\n",
       "      <td>0</td>\n",
       "      <td>0</td>\n",
       "      <td>12</td>\n",
       "      <td>1599</td>\n",
       "      <td>0</td>\n",
       "      <td>470.0</td>\n",
       "      <td>bigfive</td>\n",
       "      <td>0</td>\n",
       "      <td>7995</td>\n",
       "      <td>0</td>\n",
       "      <td>Books &gt; Teens &gt; Literature &amp; Fiction &gt; Social ...</td>\n",
       "      <td>1700</td>\n",
       "      <td>0</td>\n",
       "      <td>0</td>\n",
       "      <td>0</td>\n",
       "      <td>0</td>\n",
       "      <td>1599</td>\n",
       "      <td>7</td>\n",
       "      <td>0</td>\n",
       "      <td>Simon &amp; Schuster</td>\n",
       "      <td>0</td>\n",
       "      <td>0</td>\n",
       "      <td>0</td>\n",
       "      <td>7995</td>\n",
       "      <td>0</td>\n",
       "      <td>0</td>\n",
       "      <td>0</td>\n",
       "      <td>Audible Audiobook</td>\n",
       "      <td>0</td>\n",
       "      <td>10465</td>\n",
       "      <td>5</td>\n",
       "      <td>0</td>\n",
       "      <td>0</td>\n",
       "      <td>7</td>\n",
       "      <td>0</td>\n",
       "      <td>1</td>\n",
       "      <td>0</td>\n",
       "      <td>0</td>\n",
       "      <td>0</td>\n",
       "      <td>0</td>\n",
       "      <td>0</td>\n",
       "      <td>0</td>\n",
       "      <td>0</td>\n",
       "      <td>0</td>\n",
       "      <td>1</td>\n",
       "      <td>0</td>\n",
       "      <td>5</td>\n",
       "      <td>0</td>\n",
       "      <td>0</td>\n",
       "      <td>0</td>\n",
       "      <td>0</td>\n",
       "      <td>395.0</td>\n",
       "      <td>NaN</td>\n",
       "      <td>NaN</td>\n",
       "      <td>NaN</td>\n",
       "    </tr>\n",
       "    <tr>\n",
       "      <th>6536</th>\n",
       "      <td>The Walking Dead</td>\n",
       "      <td>audio</td>\n",
       "      <td>20190824</td>\n",
       "      <td>1</td>\n",
       "      <td>{'amazontotalreviews': 275, 'minappleprice': 0...</td>\n",
       "      <td>20190825</td>\n",
       "      <td>Matthew Murdock</td>\n",
       "      <td>275.0</td>\n",
       "      <td>0</td>\n",
       "      <td>38623</td>\n",
       "      <td>0</td>\n",
       "      <td>0</td>\n",
       "      <td>0</td>\n",
       "      <td>1</td>\n",
       "      <td>0</td>\n",
       "      <td>0</td>\n",
       "      <td>0</td>\n",
       "      <td>0</td>\n",
       "      <td>1599</td>\n",
       "      <td>0</td>\n",
       "      <td>0</td>\n",
       "      <td>25</td>\n",
       "      <td>38623</td>\n",
       "      <td>0</td>\n",
       "      <td>0</td>\n",
       "      <td>19435</td>\n",
       "      <td>0</td>\n",
       "      <td>0</td>\n",
       "      <td>1700</td>\n",
       "      <td>0</td>\n",
       "      <td>0</td>\n",
       "      <td>0</td>\n",
       "      <td>0</td>\n",
       "      <td>0</td>\n",
       "      <td>0</td>\n",
       "      <td>1700</td>\n",
       "      <td>1599</td>\n",
       "      <td>0</td>\n",
       "      <td>0</td>\n",
       "      <td>0</td>\n",
       "      <td>2015-09-29</td>\n",
       "      <td>0</td>\n",
       "      <td>0</td>\n",
       "      <td>1700</td>\n",
       "      <td>0</td>\n",
       "      <td>0</td>\n",
       "      <td>0</td>\n",
       "      <td>0</td>\n",
       "      <td>0</td>\n",
       "      <td>0</td>\n",
       "      <td>0</td>\n",
       "      <td>0</td>\n",
       "      <td>0</td>\n",
       "      <td>25</td>\n",
       "      <td>1599</td>\n",
       "      <td>0</td>\n",
       "      <td>470.0</td>\n",
       "      <td>bigfive</td>\n",
       "      <td>0</td>\n",
       "      <td>19188</td>\n",
       "      <td>0</td>\n",
       "      <td>Books &gt; Teens &gt; Literature &amp; Fiction &gt; Social ...</td>\n",
       "      <td>1700</td>\n",
       "      <td>0</td>\n",
       "      <td>0</td>\n",
       "      <td>0</td>\n",
       "      <td>0</td>\n",
       "      <td>1599</td>\n",
       "      <td>13</td>\n",
       "      <td>0</td>\n",
       "      <td>Simon &amp; Schuster</td>\n",
       "      <td>0</td>\n",
       "      <td>0</td>\n",
       "      <td>0</td>\n",
       "      <td>19188</td>\n",
       "      <td>0</td>\n",
       "      <td>0</td>\n",
       "      <td>0</td>\n",
       "      <td>Audible Audiobook</td>\n",
       "      <td>0</td>\n",
       "      <td>19435</td>\n",
       "      <td>12</td>\n",
       "      <td>0</td>\n",
       "      <td>0</td>\n",
       "      <td>13</td>\n",
       "      <td>0</td>\n",
       "      <td>1</td>\n",
       "      <td>0</td>\n",
       "      <td>0</td>\n",
       "      <td>0</td>\n",
       "      <td>0</td>\n",
       "      <td>0</td>\n",
       "      <td>0</td>\n",
       "      <td>0</td>\n",
       "      <td>0</td>\n",
       "      <td>1</td>\n",
       "      <td>0</td>\n",
       "      <td>12</td>\n",
       "      <td>0</td>\n",
       "      <td>0</td>\n",
       "      <td>0</td>\n",
       "      <td>0</td>\n",
       "      <td>395.0</td>\n",
       "      <td>NaN</td>\n",
       "      <td>NaN</td>\n",
       "      <td>NaN</td>\n",
       "    </tr>\n",
       "    <tr>\n",
       "      <th>6537</th>\n",
       "      <td>The Walking Dead</td>\n",
       "      <td>audio</td>\n",
       "      <td>20190825</td>\n",
       "      <td>1</td>\n",
       "      <td>{'amazontotalreviews': 275, 'minappleprice': 0...</td>\n",
       "      <td>20190826</td>\n",
       "      <td>Matthew Murdock</td>\n",
       "      <td>275.0</td>\n",
       "      <td>0</td>\n",
       "      <td>80340</td>\n",
       "      <td>0</td>\n",
       "      <td>0</td>\n",
       "      <td>0</td>\n",
       "      <td>1</td>\n",
       "      <td>0</td>\n",
       "      <td>0</td>\n",
       "      <td>0</td>\n",
       "      <td>0</td>\n",
       "      <td>1599</td>\n",
       "      <td>0</td>\n",
       "      <td>0</td>\n",
       "      <td>52</td>\n",
       "      <td>80340</td>\n",
       "      <td>0</td>\n",
       "      <td>0</td>\n",
       "      <td>40365</td>\n",
       "      <td>0</td>\n",
       "      <td>0</td>\n",
       "      <td>1700</td>\n",
       "      <td>0</td>\n",
       "      <td>0</td>\n",
       "      <td>0</td>\n",
       "      <td>0</td>\n",
       "      <td>0</td>\n",
       "      <td>0</td>\n",
       "      <td>1700</td>\n",
       "      <td>1599</td>\n",
       "      <td>0</td>\n",
       "      <td>0</td>\n",
       "      <td>0</td>\n",
       "      <td>2015-09-29</td>\n",
       "      <td>0</td>\n",
       "      <td>0</td>\n",
       "      <td>1700</td>\n",
       "      <td>0</td>\n",
       "      <td>0</td>\n",
       "      <td>0</td>\n",
       "      <td>0</td>\n",
       "      <td>0</td>\n",
       "      <td>0</td>\n",
       "      <td>0</td>\n",
       "      <td>0</td>\n",
       "      <td>0</td>\n",
       "      <td>52</td>\n",
       "      <td>1599</td>\n",
       "      <td>0</td>\n",
       "      <td>470.0</td>\n",
       "      <td>bigfive</td>\n",
       "      <td>0</td>\n",
       "      <td>39975</td>\n",
       "      <td>0</td>\n",
       "      <td>Books &gt; Teens &gt; Literature &amp; Fiction &gt; Social ...</td>\n",
       "      <td>1700</td>\n",
       "      <td>0</td>\n",
       "      <td>0</td>\n",
       "      <td>0</td>\n",
       "      <td>0</td>\n",
       "      <td>1599</td>\n",
       "      <td>27</td>\n",
       "      <td>0</td>\n",
       "      <td>Simon &amp; Schuster</td>\n",
       "      <td>0</td>\n",
       "      <td>0</td>\n",
       "      <td>0</td>\n",
       "      <td>39975</td>\n",
       "      <td>0</td>\n",
       "      <td>0</td>\n",
       "      <td>0</td>\n",
       "      <td>Audible Audiobook</td>\n",
       "      <td>0</td>\n",
       "      <td>40365</td>\n",
       "      <td>25</td>\n",
       "      <td>0</td>\n",
       "      <td>0</td>\n",
       "      <td>27</td>\n",
       "      <td>0</td>\n",
       "      <td>1</td>\n",
       "      <td>0</td>\n",
       "      <td>0</td>\n",
       "      <td>0</td>\n",
       "      <td>0</td>\n",
       "      <td>0</td>\n",
       "      <td>0</td>\n",
       "      <td>0</td>\n",
       "      <td>0</td>\n",
       "      <td>1</td>\n",
       "      <td>0</td>\n",
       "      <td>25</td>\n",
       "      <td>0</td>\n",
       "      <td>0</td>\n",
       "      <td>0</td>\n",
       "      <td>0</td>\n",
       "      <td>395.0</td>\n",
       "      <td>NaN</td>\n",
       "      <td>NaN</td>\n",
       "      <td>NaN</td>\n",
       "    </tr>\n",
       "    <tr>\n",
       "      <th>6538</th>\n",
       "      <td>The Walking Dead</td>\n",
       "      <td>audio</td>\n",
       "      <td>20190826</td>\n",
       "      <td>1</td>\n",
       "      <td>{'amazontotalreviews': 275, 'minappleprice': 0...</td>\n",
       "      <td>20190827</td>\n",
       "      <td>Matthew Murdock</td>\n",
       "      <td>275.0</td>\n",
       "      <td>0</td>\n",
       "      <td>43212</td>\n",
       "      <td>0</td>\n",
       "      <td>0</td>\n",
       "      <td>0</td>\n",
       "      <td>1</td>\n",
       "      <td>0</td>\n",
       "      <td>0</td>\n",
       "      <td>0</td>\n",
       "      <td>0</td>\n",
       "      <td>1599</td>\n",
       "      <td>0</td>\n",
       "      <td>0</td>\n",
       "      <td>28</td>\n",
       "      <td>43212</td>\n",
       "      <td>0</td>\n",
       "      <td>0</td>\n",
       "      <td>22425</td>\n",
       "      <td>0</td>\n",
       "      <td>0</td>\n",
       "      <td>1700</td>\n",
       "      <td>0</td>\n",
       "      <td>0</td>\n",
       "      <td>0</td>\n",
       "      <td>0</td>\n",
       "      <td>0</td>\n",
       "      <td>0</td>\n",
       "      <td>1700</td>\n",
       "      <td>1599</td>\n",
       "      <td>0</td>\n",
       "      <td>0</td>\n",
       "      <td>0</td>\n",
       "      <td>2015-09-29</td>\n",
       "      <td>0</td>\n",
       "      <td>0</td>\n",
       "      <td>1700</td>\n",
       "      <td>0</td>\n",
       "      <td>0</td>\n",
       "      <td>0</td>\n",
       "      <td>0</td>\n",
       "      <td>0</td>\n",
       "      <td>0</td>\n",
       "      <td>0</td>\n",
       "      <td>0</td>\n",
       "      <td>0</td>\n",
       "      <td>28</td>\n",
       "      <td>1599</td>\n",
       "      <td>0</td>\n",
       "      <td>470.0</td>\n",
       "      <td>bigfive</td>\n",
       "      <td>0</td>\n",
       "      <td>20787</td>\n",
       "      <td>0</td>\n",
       "      <td>Books &gt; Teens &gt; Literature &amp; Fiction &gt; Social ...</td>\n",
       "      <td>1700</td>\n",
       "      <td>0</td>\n",
       "      <td>0</td>\n",
       "      <td>0</td>\n",
       "      <td>0</td>\n",
       "      <td>1599</td>\n",
       "      <td>15</td>\n",
       "      <td>0</td>\n",
       "      <td>Simon &amp; Schuster</td>\n",
       "      <td>0</td>\n",
       "      <td>0</td>\n",
       "      <td>0</td>\n",
       "      <td>20787</td>\n",
       "      <td>0</td>\n",
       "      <td>0</td>\n",
       "      <td>0</td>\n",
       "      <td>Audible Audiobook</td>\n",
       "      <td>0</td>\n",
       "      <td>22425</td>\n",
       "      <td>13</td>\n",
       "      <td>0</td>\n",
       "      <td>0</td>\n",
       "      <td>15</td>\n",
       "      <td>0</td>\n",
       "      <td>1</td>\n",
       "      <td>0</td>\n",
       "      <td>0</td>\n",
       "      <td>0</td>\n",
       "      <td>0</td>\n",
       "      <td>0</td>\n",
       "      <td>0</td>\n",
       "      <td>0</td>\n",
       "      <td>0</td>\n",
       "      <td>1</td>\n",
       "      <td>0</td>\n",
       "      <td>13</td>\n",
       "      <td>0</td>\n",
       "      <td>0</td>\n",
       "      <td>0</td>\n",
       "      <td>0</td>\n",
       "      <td>395.0</td>\n",
       "      <td>NaN</td>\n",
       "      <td>NaN</td>\n",
       "      <td>NaN</td>\n",
       "    </tr>\n",
       "  </tbody>\n",
       "</table>\n",
       "</div>"
      ],
      "text/plain": [
       "                entity formattype  fromdate  titlecount  \\\n",
       "6534  The Walking Dead      audio  20190822           1   \n",
       "6535  The Walking Dead      audio  20190823           1   \n",
       "6536  The Walking Dead      audio  20190824           1   \n",
       "6537  The Walking Dead      audio  20190825           1   \n",
       "6538  The Walking Dead      audio  20190826           1   \n",
       "\n",
       "                                                 titles    todate  \\\n",
       "6534  {'amazontotalreviews': 275, 'minappleprice': 0...  20190823   \n",
       "6535  {'amazontotalreviews': 275, 'minappleprice': 0...  20190824   \n",
       "6536  {'amazontotalreviews': 275, 'minappleprice': 0...  20190825   \n",
       "6537  {'amazontotalreviews': 275, 'minappleprice': 0...  20190826   \n",
       "6538  {'amazontotalreviews': 275, 'minappleprice': 0...  20190827   \n",
       "\n",
       "               author  amazontotalreviews  minappleprice  amazontotalrevenue  \\\n",
       "6534  Matthew Murdock               275.0              0               81835   \n",
       "6535  Matthew Murdock               275.0              0               18460   \n",
       "6536  Matthew Murdock               275.0              0               38623   \n",
       "6537  Matthew Murdock               275.0              0               80340   \n",
       "6538  Matthew Murdock               275.0              0               43212   \n",
       "\n",
       "      accruedpreordersoldunits  amazonlumpedpreordersubscriptionrevenue  \\\n",
       "6534                         0                                        0   \n",
       "6535                         0                                        0   \n",
       "6536                         0                                        0   \n",
       "6537                         0                                        0   \n",
       "6538                         0                                        0   \n",
       "\n",
       "      preordersalesrevenue  foundatamazon  \\\n",
       "6534                     0              1   \n",
       "6535                     0              1   \n",
       "6536                     0              1   \n",
       "6537                     0              1   \n",
       "6538                     0              1   \n",
       "\n",
       "      barnesandnobleaccruedpreorderrevenue  amazonpreordersubscriptionunits  \\\n",
       "6534                                     0                                0   \n",
       "6535                                     0                                0   \n",
       "6536                                     0                                0   \n",
       "6537                                     0                                0   \n",
       "6538                                     0                                0   \n",
       "\n",
       "      amazonlumpedpreordersalesrevenue  foundatbarnesandnoble  maxprice  \\\n",
       "6534                                 0                      0      1599   \n",
       "6535                                 0                      0      1599   \n",
       "6536                                 0                      0      1599   \n",
       "6537                                 0                      0      1599   \n",
       "6538                                 0                      0      1599   \n",
       "\n",
       "      lumpedpreordersubscriptionunits  applepreorderrevenue  amazontotalunits  \\\n",
       "6534                                0                     0                53   \n",
       "6535                                0                     0                12   \n",
       "6536                                0                     0                25   \n",
       "6537                                0                     0                52   \n",
       "6538                                0                     0                28   \n",
       "\n",
       "      totalrevenue  barnesandnobleaccruedpreorderunits  preorderunits  \\\n",
       "6534         81835                                   0              0   \n",
       "6535         18460                                   0              0   \n",
       "6536         38623                                   0              0   \n",
       "6537         80340                                   0              0   \n",
       "6538         43212                                   0              0   \n",
       "\n",
       "      amazonsubscriptionrevenue  amazonlumpedpreorderrevenue  \\\n",
       "6534                      41860                            0   \n",
       "6535                      10465                            0   \n",
       "6536                      19435                            0   \n",
       "6537                      40365                            0   \n",
       "6538                      22425                            0   \n",
       "\n",
       "      maxbarnesandnoblelistprice  maxlistprice  barnesandnoblesoldunits  \\\n",
       "6534                           0          1700                        0   \n",
       "6535                           0          1700                        0   \n",
       "6536                           0          1700                        0   \n",
       "6537                           0          1700                        0   \n",
       "6538                           0          1700                        0   \n",
       "\n",
       "      maxapplelistprice  amazonaccruedpreordersubscriptionrevenue  \\\n",
       "6534                  0                                         0   \n",
       "6535                  0                                         0   \n",
       "6536                  0                                         0   \n",
       "6537                  0                                         0   \n",
       "6538                  0                                         0   \n",
       "\n",
       "      accruedpreordersubscriptionunits  amazonkenpread  applesoldunits  \\\n",
       "6534                                 0               0               0   \n",
       "6535                                 0               0               0   \n",
       "6536                                 0               0               0   \n",
       "6537                                 0               0               0   \n",
       "6538                                 0               0               0   \n",
       "\n",
       "      minamazonlistprice  minprice  bookscanreported  \\\n",
       "6534                1700      1599                 0   \n",
       "6535                1700      1599                 0   \n",
       "6536                1700      1599                 0   \n",
       "6537                1700      1599                 0   \n",
       "6538                1700      1599                 0   \n",
       "\n",
       "      appleaccruedpreorderunits  preorderperiod datepublished  \\\n",
       "6534                          0               0    2015-09-29   \n",
       "6535                          0               0    2015-09-29   \n",
       "6536                          0               0    2015-09-29   \n",
       "6537                          0               0    2015-09-29   \n",
       "6538                          0               0    2015-09-29   \n",
       "\n",
       "      lumpedpreordersoldunits  accruedpreorderrevenue  maxamazonlistprice  \\\n",
       "6534                        0                       0                1700   \n",
       "6535                        0                       0                1700   \n",
       "6536                        0                       0                1700   \n",
       "6537                        0                       0                1700   \n",
       "6538                        0                       0                1700   \n",
       "\n",
       "      amazonaccruedpreorderrevenue  barnesandnoblepreorderunits  \\\n",
       "6534                             0                            0   \n",
       "6535                             0                            0   \n",
       "6536                             0                            0   \n",
       "6537                             0                            0   \n",
       "6538                             0                            0   \n",
       "\n",
       "      amazonaccruedpreorderunits  minbarnesandnoblelistprice  \\\n",
       "6534                           0                           0   \n",
       "6535                           0                           0   \n",
       "6536                           0                           0   \n",
       "6537                           0                           0   \n",
       "6538                           0                           0   \n",
       "\n",
       "      appleaccruedpreorderrevenue  applelumpedpreorderunits  \\\n",
       "6534                            0                         0   \n",
       "6535                            0                         0   \n",
       "6536                            0                         0   \n",
       "6537                            0                         0   \n",
       "6538                            0                         0   \n",
       "\n",
       "      applesalesrevenue  preordersoldunits  lumpedpreordersalesrevenue  \\\n",
       "6534                  0                  0                           0   \n",
       "6535                  0                  0                           0   \n",
       "6536                  0                  0                           0   \n",
       "6537                  0                  0                           0   \n",
       "6538                  0                  0                           0   \n",
       "\n",
       "      totalunits  maxamazonprice  amazonlumpedpreordersoldunits  \\\n",
       "6534          53            1599                              0   \n",
       "6535          12            1599                              0   \n",
       "6536          25            1599                              0   \n",
       "6537          52            1599                              0   \n",
       "6538          28            1599                              0   \n",
       "\n",
       "      amazonaveragerating publishertype  accruedpreorderunits  \\\n",
       "6534                470.0       bigfive                     0   \n",
       "6535                470.0       bigfive                     0   \n",
       "6536                470.0       bigfive                     0   \n",
       "6537                470.0       bigfive                     0   \n",
       "6538                470.0       bigfive                     0   \n",
       "\n",
       "      amazonsalesrevenue  barnesandnoblesalesrevenue  \\\n",
       "6534               39975                           0   \n",
       "6535                7995                           0   \n",
       "6536               19188                           0   \n",
       "6537               39975                           0   \n",
       "6538               20787                           0   \n",
       "\n",
       "                                       amazoncategories  minlistprice  \\\n",
       "6534  Books > Teens > Literature & Fiction > Social ...          1700   \n",
       "6535  Books > Teens > Literature & Fiction > Social ...          1700   \n",
       "6536  Books > Teens > Literature & Fiction > Social ...          1700   \n",
       "6537  Books > Teens > Literature & Fiction > Social ...          1700   \n",
       "6538  Books > Teens > Literature & Fiction > Social ...          1700   \n",
       "\n",
       "      amazonaccruedpreordersalesrevenue  amazonlumpedpreorderunits  \\\n",
       "6534                                  0                          0   \n",
       "6535                                  0                          0   \n",
       "6536                                  0                          0   \n",
       "6537                                  0                          0   \n",
       "6538                                  0                          0   \n",
       "\n",
       "      lumpedpreordersubscriptionrevenue  applelumpedpreorderrevenue  \\\n",
       "6534                                  0                           0   \n",
       "6535                                  0                           0   \n",
       "6536                                  0                           0   \n",
       "6537                                  0                           0   \n",
       "6538                                  0                           0   \n",
       "\n",
       "      minamazonprice  subscriptionunits  amazonpreorderunits  \\\n",
       "6534            1599                 28                    0   \n",
       "6535            1599                  7                    0   \n",
       "6536            1599                 13                    0   \n",
       "6537            1599                 27                    0   \n",
       "6538            1599                 15                    0   \n",
       "\n",
       "       publisherparent  amazonpreorderrevenue  amazonaccruedpreordersoldunits  \\\n",
       "6534  Simon & Schuster                      0                               0   \n",
       "6535  Simon & Schuster                      0                               0   \n",
       "6536  Simon & Schuster                      0                               0   \n",
       "6537  Simon & Schuster                      0                               0   \n",
       "6538  Simon & Schuster                      0                               0   \n",
       "\n",
       "      amazonpreordersoldunits  salesrevenue  preordersubscriptionrevenue  \\\n",
       "6534                        0         39975                            0   \n",
       "6535                        0          7995                            0   \n",
       "6536                        0         19188                            0   \n",
       "6537                        0         39975                            0   \n",
       "6538                        0         20787                            0   \n",
       "\n",
       "      lumpedpreorderunits  amazonaccruedpreordersubscriptionunits  \\\n",
       "6534                    0                                       0   \n",
       "6535                    0                                       0   \n",
       "6536                    0                                       0   \n",
       "6537                    0                                       0   \n",
       "6538                    0                                       0   \n",
       "\n",
       "                formats  applepreorderunits  subscriptionrevenue  soldunits  \\\n",
       "6534  Audible Audiobook                   0                41860         25   \n",
       "6535  Audible Audiobook                   0                10465          5   \n",
       "6536  Audible Audiobook                   0                19435         12   \n",
       "6537  Audible Audiobook                   0                40365         25   \n",
       "6538  Audible Audiobook                   0                22425         13   \n",
       "\n",
       "      minapplelistprice  barnesandnoblepreorderrevenue  \\\n",
       "6534                  0                              0   \n",
       "6535                  0                              0   \n",
       "6536                  0                              0   \n",
       "6537                  0                              0   \n",
       "6538                  0                              0   \n",
       "\n",
       "      amazonsubscriptionunits  amazonlumpedpreordersubscriptionunits  \\\n",
       "6534                       28                                      0   \n",
       "6535                        7                                      0   \n",
       "6536                       13                                      0   \n",
       "6537                       27                                      0   \n",
       "6538                       15                                      0   \n",
       "\n",
       "      aapreported  accruedpreordersubscriptionrevenue  foundatapple  \\\n",
       "6534            1                                   0             0   \n",
       "6535            1                                   0             0   \n",
       "6536            1                                   0             0   \n",
       "6537            1                                   0             0   \n",
       "6538            1                                   0             0   \n",
       "\n",
       "      barnesandnoblelumpedpreorderrevenue  barnesandnoblelumpedpreorderunits  \\\n",
       "6534                                    0                                  0   \n",
       "6535                                    0                                  0   \n",
       "6536                                    0                                  0   \n",
       "6537                                    0                                  0   \n",
       "6538                                    0                                  0   \n",
       "\n",
       "      minbarnesandnobleprice  accruedpreordersalesrevenue  \\\n",
       "6534                       0                            0   \n",
       "6535                       0                            0   \n",
       "6536                       0                            0   \n",
       "6537                       0                            0   \n",
       "6538                       0                            0   \n",
       "\n",
       "      maxbarnesandnobleprice  preorderrevenue  pubtrackreported  \\\n",
       "6534                       0                0                 1   \n",
       "6535                       0                0                 1   \n",
       "6536                       0                0                 1   \n",
       "6537                       0                0                 1   \n",
       "6538                       0                0                 1   \n",
       "\n",
       "      lumpedpreorderrevenue  amazonsoldunits  \\\n",
       "6534                      0               25   \n",
       "6535                      0                5   \n",
       "6536                      0               12   \n",
       "6537                      0               25   \n",
       "6538                      0               13   \n",
       "\n",
       "      amazonpreordersubscriptionrevenue  preordersubscriptionunits  \\\n",
       "6534                                  0                          0   \n",
       "6535                                  0                          0   \n",
       "6536                                  0                          0   \n",
       "6537                                  0                          0   \n",
       "6538                                  0                          0   \n",
       "\n",
       "      amazonpreordersalesrevenue  maxappleprice  pagelength  \\\n",
       "6534                           0              0       395.0   \n",
       "6535                           0              0       395.0   \n",
       "6536                           0              0       395.0   \n",
       "6537                           0              0       395.0   \n",
       "6538                           0              0       395.0   \n",
       "\n",
       "      pricewassetbypublisher barnesandnobledistributor appledistributor  \n",
       "6534                     NaN                       NaN              NaN  \n",
       "6535                     NaN                       NaN              NaN  \n",
       "6536                     NaN                       NaN              NaN  \n",
       "6537                     NaN                       NaN              NaN  \n",
       "6538                     NaN                       NaN              NaN  "
      ]
     },
     "execution_count": 6,
     "metadata": {},
     "output_type": "execute_result"
    }
   ],
   "source": [
    "#data.tail()"
   ]
  },
  {
   "cell_type": "code",
   "execution_count": 7,
   "metadata": {},
   "outputs": [
    {
     "data": {
      "text/plain": [
       "entity                                         0\n",
       "formattype                                     0\n",
       "fromdate                                       0\n",
       "titlecount                                     0\n",
       "titles                                         0\n",
       "todate                                         0\n",
       "author                                         0\n",
       "amazontotalreviews                            17\n",
       "minappleprice                                  0\n",
       "amazontotalrevenue                             0\n",
       "accruedpreordersoldunits                       0\n",
       "amazonlumpedpreordersubscriptionrevenue        0\n",
       "preordersalesrevenue                           0\n",
       "foundatamazon                                  0\n",
       "barnesandnobleaccruedpreorderrevenue           0\n",
       "amazonpreordersubscriptionunits                0\n",
       "amazonlumpedpreordersalesrevenue               0\n",
       "foundatbarnesandnoble                          0\n",
       "maxprice                                       0\n",
       "lumpedpreordersubscriptionunits                0\n",
       "applepreorderrevenue                           0\n",
       "amazontotalunits                               0\n",
       "totalrevenue                                   0\n",
       "barnesandnobleaccruedpreorderunits             0\n",
       "preorderunits                                  0\n",
       "amazonsubscriptionrevenue                      0\n",
       "amazonlumpedpreorderrevenue                    0\n",
       "maxbarnesandnoblelistprice                     0\n",
       "maxlistprice                                   0\n",
       "barnesandnoblesoldunits                        0\n",
       "maxapplelistprice                              0\n",
       "amazonaccruedpreordersubscriptionrevenue       0\n",
       "accruedpreordersubscriptionunits               0\n",
       "amazonkenpread                                 0\n",
       "applesoldunits                                 0\n",
       "minamazonlistprice                             0\n",
       "minprice                                       0\n",
       "bookscanreported                               0\n",
       "appleaccruedpreorderunits                      0\n",
       "preorderperiod                                 0\n",
       "datepublished                                  0\n",
       "lumpedpreordersoldunits                        0\n",
       "accruedpreorderrevenue                         0\n",
       "maxamazonlistprice                             0\n",
       "amazonaccruedpreorderrevenue                   0\n",
       "barnesandnoblepreorderunits                    0\n",
       "amazonaccruedpreorderunits                     0\n",
       "minbarnesandnoblelistprice                     0\n",
       "appleaccruedpreorderrevenue                    0\n",
       "applelumpedpreorderunits                       0\n",
       "applesalesrevenue                              0\n",
       "preordersoldunits                              0\n",
       "lumpedpreordersalesrevenue                     0\n",
       "totalunits                                     0\n",
       "maxamazonprice                                 0\n",
       "amazonlumpedpreordersoldunits                  0\n",
       "amazonaveragerating                           16\n",
       "publishertype                                  0\n",
       "accruedpreorderunits                           0\n",
       "amazonsalesrevenue                             0\n",
       "barnesandnoblesalesrevenue                     0\n",
       "amazoncategories                               5\n",
       "minlistprice                                   0\n",
       "amazonaccruedpreordersalesrevenue              0\n",
       "amazonlumpedpreorderunits                      0\n",
       "lumpedpreordersubscriptionrevenue              0\n",
       "applelumpedpreorderrevenue                     0\n",
       "minamazonprice                                 0\n",
       "subscriptionunits                              0\n",
       "amazonpreorderunits                            0\n",
       "publisherparent                                0\n",
       "amazonpreorderrevenue                          0\n",
       "amazonaccruedpreordersoldunits                 0\n",
       "amazonpreordersoldunits                        0\n",
       "salesrevenue                                   0\n",
       "preordersubscriptionrevenue                    0\n",
       "lumpedpreorderunits                            0\n",
       "amazonaccruedpreordersubscriptionunits         0\n",
       "formats                                        1\n",
       "applepreorderunits                             0\n",
       "subscriptionrevenue                            0\n",
       "soldunits                                      0\n",
       "minapplelistprice                              0\n",
       "barnesandnoblepreorderrevenue                  0\n",
       "amazonsubscriptionunits                        0\n",
       "amazonlumpedpreordersubscriptionunits          0\n",
       "aapreported                                    0\n",
       "accruedpreordersubscriptionrevenue             0\n",
       "foundatapple                                   0\n",
       "barnesandnoblelumpedpreorderrevenue            0\n",
       "barnesandnoblelumpedpreorderunits              0\n",
       "minbarnesandnobleprice                         0\n",
       "accruedpreordersalesrevenue                    0\n",
       "maxbarnesandnobleprice                         0\n",
       "preorderrevenue                                0\n",
       "pubtrackreported                               0\n",
       "lumpedpreorderrevenue                          0\n",
       "amazonsoldunits                                0\n",
       "amazonpreordersubscriptionrevenue              0\n",
       "preordersubscriptionunits                      0\n",
       "amazonpreordersalesrevenue                     0\n",
       "maxappleprice                                  0\n",
       "pagelength                                  3981\n",
       "pricewassetbypublisher                      5008\n",
       "barnesandnobledistributor                   4804\n",
       "appledistributor                            5783\n",
       "dtype: int64"
      ]
     },
     "execution_count": 7,
     "metadata": {},
     "output_type": "execute_result"
    }
   ],
   "source": [
    "data.isna().sum()"
   ]
  },
  {
   "cell_type": "markdown",
   "metadata": {},
   "source": [
    "Here, there are alot of NA values in 'pagelength', 'thepricewassetbypublisher', 'barnesandnobledistributor', 'appledistributor' columns. "
   ]
  },
  {
   "cell_type": "code",
   "execution_count": 8,
   "metadata": {
    "scrolled": true
   },
   "outputs": [
    {
     "data": {
      "text/plain": [
       "\"{'amazontotalreviews': 306, 'minappleprice': 0, 'amazontotalrevenue': 0, 'accruedpreordersoldunits': 0, 'amazonlumpedpreordersubscriptionrevenue': 0, 'preordersalesrevenue': 0, 'foundatamazon': 1, 'barnesandnobleaccruedpreorderrevenue': 0, 'amazonpreordersubscriptionunits': 0, 'amazonlumpedpreordersalesrevenue': 0, 'foundatbarnesandnoble': 0, 'maxprice': 0, 'lumpedpreordersubscriptionunits': 0, 'applepreorderrevenue': 0, 'amazontotalunits': 6, 'totalrevenue': 0, 'barnesandnobleaccruedpreorderunits': 0, 'preorderunits': 0, 'amazonsubscriptionrevenue': 0, 'amazonlumpedpreorderrevenue': 0, 'maxbarnesandnoblelistprice': 0, 'maxlistprice': 0, 'barnesandnoblesoldunits': 0, 'maxapplelistprice': 0, 'amazonaccruedpreordersubscriptionrevenue': 0, 'accruedpreordersubscriptionunits': 0, 'amazonkenpread': 0, 'applesoldunits': 0, 'minamazonlistprice': 0, 'minprice': 0, 'bookscanreported': 1, 'appleaccruedpreorderunits': 0, 'preorderperiod': 0, 'datepublished': '2009-05-12', 'lumpedpreordersoldunits': 0, 'accruedpreorderrevenue': 0, 'maxamazonlistprice': 0, 'amazonaccruedpreorderrevenue': 0, 'barnesandnoblepreorderunits': 0, 'amazonaccruedpreorderunits': 0, 'minbarnesandnoblelistprice': 0, 'appleaccruedpreorderrevenue': 0, 'applelumpedpreorderunits': 0, 'applesalesrevenue': 0, 'preordersoldunits': 0, 'lumpedpreordersalesrevenue': 0, 'totalunits': 6, 'maxamazonprice': 0, 'amazonlumpedpreordersoldunits': 0, 'amazonaveragerating': 410, 'publishertype': 'bigfive', 'accruedpreorderunits': 0, 'amazonsalesrevenue': 0, 'barnesandnoblesalesrevenue': 0, 'amazoncategories': 'Books > Books on CD > Mystery & Thrillers ; Books > Books on CD > Authors, A-Z > ( C ) > Clark, Mary Higgins ; Books > Books on CD > Authors, A-Z ; Books > Books on CD > Authors, A-Z > ( C ) ; Books > Books on CD ; Books > Books on CD > Literature & Fiction > General ; Books > Books on CD > Literature & Fiction', 'minlistprice': 0, 'amazonaccruedpreordersalesrevenue': 0, 'amazonlumpedpreorderunits': 0, 'lumpedpreordersubscriptionrevenue': 0, 'applelumpedpreorderrevenue': 0, 'minamazonprice': 0, 'subscriptionunits': 0, 'amazonpreorderunits': 0, 'publisherparent': 'Simon & Schuster', 'amazonpreorderrevenue': 0, 'amazonaccruedpreordersoldunits': 0, 'amazonpreordersoldunits': 0, 'salesrevenue': 0, 'preordersubscriptionrevenue': 0, 'lumpedpreorderunits': 0, 'amazonaccruedpreordersubscriptionunits': 0, 'formats': 'Audio CD', 'applepreorderunits': 0, 'subscriptionrevenue': 0, 'soldunits': 6, 'minapplelistprice': 0, 'barnesandnoblepreorderrevenue': 0, 'amazonsubscriptionunits': 0, 'amazonlumpedpreordersubscriptionunits': 0, 'aapreported': 1, 'accruedpreordersubscriptionrevenue': 0, 'foundatapple': 0, 'barnesandnoblelumpedpreorderrevenue': 0, 'barnesandnoblelumpedpreorderunits': 0, 'minbarnesandnobleprice': 0, 'accruedpreordersalesrevenue': 0, 'maxbarnesandnobleprice': 0, 'preorderrevenue': 0, 'pubtrackreported': 1, 'lumpedpreorderrevenue': 0, 'amazonsoldunits': 6, 'amazonpreordersubscriptionrevenue': 0, 'preordersubscriptionunits': 0, 'amazonpreordersalesrevenue': 0, 'maxappleprice': 0}\""
      ]
     },
     "execution_count": 8,
     "metadata": {},
     "output_type": "execute_result"
    }
   ],
   "source": [
    "data['titles'][0]"
   ]
  },
  {
   "cell_type": "markdown",
   "metadata": {},
   "source": [
    "removing titles column as we have all the information that is included in the column"
   ]
  },
  {
   "cell_type": "code",
   "execution_count": 9,
   "metadata": {},
   "outputs": [],
   "source": [
    "data.drop('titles',axis=1,inplace=True)"
   ]
  },
  {
   "cell_type": "code",
   "execution_count": 10,
   "metadata": {},
   "outputs": [
    {
     "data": {
      "text/plain": [
       "count                 6539\n",
       "unique                   2\n",
       "top       The Walking Dead\n",
       "freq                  3499\n",
       "Name: entity, dtype: object"
      ]
     },
     "execution_count": 10,
     "metadata": {},
     "output_type": "execute_result"
    }
   ],
   "source": [
    "data['entity'].describe()"
   ]
  },
  {
   "cell_type": "code",
   "execution_count": 11,
   "metadata": {},
   "outputs": [
    {
     "data": {
      "text/plain": [
       "array(['print', 'ebook', 'audio'], dtype=object)"
      ]
     },
     "execution_count": 11,
     "metadata": {},
     "output_type": "execute_result"
    }
   ],
   "source": [
    "data['formattype'].unique()"
   ]
  },
  {
   "cell_type": "code",
   "execution_count": 13,
   "metadata": {},
   "outputs": [
    {
     "data": {
      "text/plain": [
       "<matplotlib.axes._subplots.AxesSubplot at 0x1db4f8390b8>"
      ]
     },
     "execution_count": 13,
     "metadata": {},
     "output_type": "execute_result"
    },
    {
     "data": {
      "image/png": "[encoded data removed]",
      "text/plain": [
       "<Figure size 432x288 with 1 Axes>"
      ]
     },
     "metadata": {
      "needs_background": "light"
     },
     "output_type": "display_data"
    }
   ],
   "source": [
    "# count plot of Alone in the dark and the walking dead.\n",
    "sns.countplot('entity',data=data)"
   ]
  },
  {
   "cell_type": "code",
   "execution_count": 14,
   "metadata": {},
   "outputs": [
    {
     "data": {
      "text/plain": [
       "<matplotlib.axes._subplots.AxesSubplot at 0x1db4fb96470>"
      ]
     },
     "execution_count": 14,
     "metadata": {},
     "output_type": "execute_result"
    },
    {
     "data": {
      "image/png": "[encoded data removed]",
      "text/plain": [
       "<Figure size 432x288 with 1 Axes>"
      ]
     },
     "metadata": {
      "needs_background": "light"
     },
     "output_type": "display_data"
    }
   ],
   "source": [
    "#count plot of format type.\n",
    "sns.countplot('formattype',data=data)"
   ]
  },
  {
   "cell_type": "code",
   "execution_count": 15,
   "metadata": {},
   "outputs": [],
   "source": [
    "df_entity = data.groupby('entity')"
   ]
  },
  {
   "cell_type": "code",
   "execution_count": 16,
   "metadata": {},
   "outputs": [],
   "source": [
    "The_walking_dead = df_entity.get_group('The Walking Dead')"
   ]
  },
  {
   "cell_type": "code",
   "execution_count": 17,
   "metadata": {},
   "outputs": [],
   "source": [
    "Alone_in_the_dark = df_entity.get_group('Alone in the dark')"
   ]
  },
  {
   "cell_type": "code",
   "execution_count": 18,
   "metadata": {},
   "outputs": [
    {
     "data": {
      "text/plain": [
       "<matplotlib.axes._subplots.AxesSubplot at 0x1db500be438>"
      ]
     },
     "execution_count": 18,
     "metadata": {},
     "output_type": "execute_result"
    },
    {
     "data": {
      "image/png": "[encoded data removed]",
      "text/plain": [
       "<Figure size 432x288 with 1 Axes>"
      ]
     },
     "metadata": {
      "needs_background": "light"
     },
     "output_type": "display_data"
    }
   ],
   "source": [
    "# checking total count comparision of Alone in The dark by Format type.\n",
    "sns.countplot('formattype',data= Alone_in_the_dark)"
   ]
  },
  {
   "cell_type": "code",
   "execution_count": 19,
   "metadata": {},
   "outputs": [
    {
     "data": {
      "text/plain": [
       "<matplotlib.axes._subplots.AxesSubplot at 0x1db500a7b70>"
      ]
     },
     "execution_count": 19,
     "metadata": {},
     "output_type": "execute_result"
    },
    {
     "data": {
      "image/png": "[encoded data removed]",
      "text/plain": [
       "<Figure size 432x288 with 1 Axes>"
      ]
     },
     "metadata": {
      "needs_background": "light"
     },
     "output_type": "display_data"
    }
   ],
   "source": [
    "# checking total count comparision of The Walking Dead by Format type.\n",
    "sns.countplot('formattype',data= The_walking_dead)"
   ]
  },
  {
   "cell_type": "code",
   "execution_count": 20,
   "metadata": {},
   "outputs": [],
   "source": [
    "Print = data[data['formattype']=='print']"
   ]
  },
  {
   "cell_type": "code",
   "execution_count": 21,
   "metadata": {},
   "outputs": [
    {
     "data": {
      "text/plain": [
       "72444324"
      ]
     },
     "execution_count": 21,
     "metadata": {},
     "output_type": "execute_result"
    }
   ],
   "source": [
    "Print['totalrevenue'].sum()"
   ]
  },
  {
   "cell_type": "code",
   "execution_count": 22,
   "metadata": {},
   "outputs": [],
   "source": [
    "Ebook = data[data['formattype']=='ebook']"
   ]
  },
  {
   "cell_type": "code",
   "execution_count": 23,
   "metadata": {},
   "outputs": [
    {
     "data": {
      "text/plain": [
       "21636050"
      ]
     },
     "execution_count": 23,
     "metadata": {},
     "output_type": "execute_result"
    }
   ],
   "source": [
    "Ebook['totalrevenue'].sum()"
   ]
  },
  {
   "cell_type": "code",
   "execution_count": 24,
   "metadata": {},
   "outputs": [],
   "source": [
    "Audio = data[data['formattype']=='audio']"
   ]
  },
  {
   "cell_type": "code",
   "execution_count": 25,
   "metadata": {},
   "outputs": [
    {
     "data": {
      "text/plain": [
       "30469078"
      ]
     },
     "execution_count": 25,
     "metadata": {},
     "output_type": "execute_result"
    }
   ],
   "source": [
    "Audio['totalrevenue'].sum()"
   ]
  },
  {
   "cell_type": "code",
   "execution_count": 26,
   "metadata": {},
   "outputs": [],
   "source": [
    "Revenue = pd.DataFrame(data= [72444324, 21636050,30469078],index=['Print','Ebook','Audio'],columns=['Total_Revenue'])"
   ]
  },
  {
   "cell_type": "code",
   "execution_count": 27,
   "metadata": {},
   "outputs": [],
   "source": [
    "Revenue = Revenue.reset_index()"
   ]
  },
  {
   "cell_type": "code",
   "execution_count": 28,
   "metadata": {},
   "outputs": [],
   "source": [
    "Revenue.columns = ['format_type', 'Total_Revenue']"
   ]
  },
  {
   "cell_type": "code",
   "execution_count": 29,
   "metadata": {},
   "outputs": [
    {
     "data": {
      "text/plain": [
       "<matplotlib.axes._subplots.AxesSubplot at 0x1db500dc898>"
      ]
     },
     "execution_count": 29,
     "metadata": {},
     "output_type": "execute_result"
    },
    {
     "data": {
      "image/png": "[encoded data removed]",
      "text/plain": [
       "<Figure size 432x288 with 1 Axes>"
      ]
     },
     "metadata": {
      "needs_background": "light"
     },
     "output_type": "display_data"
    }
   ],
   "source": [
    "# checking Toatl revenue comparision by format type.\n",
    "sns.barplot('format_type','Total_Revenue',data= Revenue)"
   ]
  },
  {
   "cell_type": "code",
   "execution_count": 30,
   "metadata": {},
   "outputs": [
    {
     "data": {
      "text/plain": [
       "102739496"
      ]
     },
     "execution_count": 30,
     "metadata": {},
     "output_type": "execute_result"
    }
   ],
   "source": [
    "data['amazonsalesrevenue'].sum()"
   ]
  },
  {
   "cell_type": "code",
   "execution_count": 31,
   "metadata": {},
   "outputs": [
    {
     "data": {
      "text/plain": [
       "6341652"
      ]
     },
     "execution_count": 31,
     "metadata": {},
     "output_type": "execute_result"
    }
   ],
   "source": [
    "data['applesalesrevenue'].sum()"
   ]
  },
  {
   "cell_type": "code",
   "execution_count": 32,
   "metadata": {},
   "outputs": [
    {
     "data": {
      "text/plain": [
       "15984"
      ]
     },
     "execution_count": 32,
     "metadata": {},
     "output_type": "execute_result"
    }
   ],
   "source": [
    "data['barnesandnoblesalesrevenue'].sum()"
   ]
  },
  {
   "cell_type": "code",
   "execution_count": 33,
   "metadata": {},
   "outputs": [],
   "source": [
    "sales_revenue =  pd.DataFrame(data= [\n",
    "102739496, 6341652,15984],index=['Amazon','Apple','BarnesNoble'],columns=['Sales_revenue'])"
   ]
  },
  {
   "cell_type": "code",
   "execution_count": 34,
   "metadata": {},
   "outputs": [],
   "source": [
    "sales_revenue = sales_revenue.reset_index()\n",
    "sales_revenue.columns = ['Sold_by','Sales_revenue']"
   ]
  },
  {
   "cell_type": "code",
   "execution_count": 35,
   "metadata": {},
   "outputs": [
    {
     "data": {
      "text/plain": [
       "<matplotlib.axes._subplots.AxesSubplot at 0x1db5061ed68>"
      ]
     },
     "execution_count": 35,
     "metadata": {},
     "output_type": "execute_result"
    },
    {
     "data": {
      "image/png": "[encoded data removed]",
      "text/plain": [
       "<Figure size 432x288 with 1 Axes>"
      ]
     },
     "metadata": {
      "needs_background": "light"
     },
     "output_type": "display_data"
    }
   ],
   "source": [
    "# checking sales revenue comparision of amazon,apple & BarnesandNoble\n",
    "sns.barplot('Sold_by','Sales_revenue',data = sales_revenue) "
   ]
  },
  {
   "cell_type": "code",
   "execution_count": 36,
   "metadata": {},
   "outputs": [],
   "source": [
    "sold_units = data[data['formattype']=='print'][['amazonsoldunits','barnesandnoblesoldunits','applesoldunits']]"
   ]
  },
  {
   "cell_type": "code",
   "execution_count": 37,
   "metadata": {
    "scrolled": true
   },
   "outputs": [
    {
     "data": {
      "text/plain": [
       "amazonsoldunits            88360\n",
       "barnesandnoblesoldunits        0\n",
       "applesoldunits                 0\n",
       "dtype: int64"
      ]
     },
     "execution_count": 37,
     "metadata": {},
     "output_type": "execute_result"
    }
   ],
   "source": [
    "sold_units.sum() # we can see that there has been no units sold of print format type by apple and barnesandnoble."
   ]
  },
  {
   "cell_type": "code",
   "execution_count": 38,
   "metadata": {},
   "outputs": [],
   "source": [
    "units_by_print =  pd.DataFrame(data= [88360,0,0],index=['amazonsoldunits ','barnesandnoblesoldunits','applesoldunits '],columns=['Total_units'])"
   ]
  },
  {
   "cell_type": "code",
   "execution_count": 39,
   "metadata": {},
   "outputs": [
    {
     "data": {
      "text/plain": [
       "<matplotlib.legend.Legend at 0x1db506ba710>"
      ]
     },
     "execution_count": 39,
     "metadata": {},
     "output_type": "execute_result"
    },
    {
     "data": {
      "image/png": "[encoded data removed]",
      "text/plain": [
       "<Figure size 1000x600 with 1 Axes>"
      ]
     },
     "metadata": {},
     "output_type": "display_data"
    }
   ],
   "source": [
    "#units for print format\n",
    "plt.figure(dpi=100)\n",
    "explode_list= [0.0,0.1,0.2]\n",
    "color_list = ['lightblue','brown','green']\n",
    "units_by_print['Total_units'].plot(kind='pie',\n",
    "                         figsize=(10,6),\n",
    "                         autopct='(%1.2f%%)',\n",
    "                          startangle= 45,\n",
    "                      colors = color_list,\n",
    "                      pctdistance = 1.37,\n",
    "                      explode = explode_list)\n",
    "plt.title('units for print Distribution')\n",
    "plt.legend(units_by_print.index,loc = 'upper left')"
   ]
  },
  {
   "cell_type": "code",
   "execution_count": 40,
   "metadata": {},
   "outputs": [],
   "source": [
    "sold_units = data[data['formattype']=='ebook'][['amazonsoldunits','barnesandnoblesoldunits','applesoldunits']]"
   ]
  },
  {
   "cell_type": "code",
   "execution_count": 41,
   "metadata": {
    "scrolled": true
   },
   "outputs": [
    {
     "data": {
      "text/plain": [
       "amazonsoldunits            17806\n",
       "barnesandnoblesoldunits       16\n",
       "applesoldunits              6348\n",
       "dtype: int64"
      ]
     },
     "execution_count": 41,
     "metadata": {},
     "output_type": "execute_result"
    }
   ],
   "source": [
    "sold_units.sum() # we can see that there were very few units sold of ebook format type by barnesandnoble compared to rest 2."
   ]
  },
  {
   "cell_type": "code",
   "execution_count": 42,
   "metadata": {},
   "outputs": [],
   "source": [
    "units_by_ebook =  pd.DataFrame(data= [17806,16,6348],index=['amazonsoldunits ','barnesandnoblesoldunits','applesoldunits '],columns=['Total_units'])"
   ]
  },
  {
   "cell_type": "code",
   "execution_count": 43,
   "metadata": {},
   "outputs": [
    {
     "data": {
      "text/plain": [
       "<matplotlib.legend.Legend at 0x1db509c7e48>"
      ]
     },
     "execution_count": 43,
     "metadata": {},
     "output_type": "execute_result"
    },
    {
     "data": {
      "image/png": "[encoded data removed]",
      "text/plain": [
       "<Figure size 1000x600 with 1 Axes>"
      ]
     },
     "metadata": {},
     "output_type": "display_data"
    }
   ],
   "source": [
    "#units for print format\n",
    "plt.figure(dpi=100)\n",
    "explode_list= [0.0,0.05,0.1]\n",
    "color_list = ['lightblue','brown','green']\n",
    "units_by_ebook['Total_units'].plot(kind='pie',\n",
    "                         figsize=(10,6),\n",
    "                         autopct='(%1.1f%%)',\n",
    "                          startangle= 20,\n",
    "                      colors = color_list,\n",
    "                      pctdistance = 1.37,\n",
    "                      explode = explode_list)\n",
    "plt.title('units for ebook Distribution')\n",
    "plt.legend(units_by_ebook.index,loc = 'upper left')"
   ]
  },
  {
   "cell_type": "code",
   "execution_count": 44,
   "metadata": {},
   "outputs": [],
   "source": [
    "sold_units = data[data['formattype']=='audio'][['amazonsoldunits','barnesandnoblesoldunits','applesoldunits']]"
   ]
  },
  {
   "cell_type": "code",
   "execution_count": 45,
   "metadata": {
    "scrolled": true
   },
   "outputs": [
    {
     "data": {
      "text/plain": [
       "amazonsoldunits            9352\n",
       "barnesandnoblesoldunits       0\n",
       "applesoldunits                0\n",
       "dtype: int64"
      ]
     },
     "execution_count": 45,
     "metadata": {},
     "output_type": "execute_result"
    }
   ],
   "source": [
    "sold_units.sum() # we can see that there has been no units sold of audio format type by apple and barnesandnoble."
   ]
  },
  {
   "cell_type": "code",
   "execution_count": 46,
   "metadata": {},
   "outputs": [],
   "source": [
    "units_by_audio =  pd.DataFrame(data= [9352,0,0],index=['amazonsoldunits ','barnesandnoblesoldunits','applesoldunits '],columns=['Total_units'])"
   ]
  },
  {
   "cell_type": "code",
   "execution_count": 47,
   "metadata": {},
   "outputs": [
    {
     "data": {
      "text/plain": [
       "<matplotlib.legend.Legend at 0x1db50787e80>"
      ]
     },
     "execution_count": 47,
     "metadata": {},
     "output_type": "execute_result"
    },
    {
     "data": {
      "image/png": "[encoded data removed]",
      "text/plain": [
       "<Figure size 1000x600 with 1 Axes>"
      ]
     },
     "metadata": {},
     "output_type": "display_data"
    }
   ],
   "source": [
    "#units for print format\n",
    "plt.figure(dpi=100)\n",
    "explode_list= [0.0,0.1,0.2]\n",
    "color_list = ['lightblue','brown','green']\n",
    "units_by_audio['Total_units'].plot(kind='pie',\n",
    "                         figsize=(10,6),\n",
    "                         autopct='(%1.1f%%)',\n",
    "                          startangle= 50,\n",
    "                      colors = color_list,\n",
    "                      pctdistance = 1.37,\n",
    "                      explode = explode_list)\n",
    "plt.title('units for audio Distribution')\n",
    "plt.legend(units_by_audio.index,loc = 'upper left')"
   ]
  },
  {
   "cell_type": "code",
   "execution_count": 48,
   "metadata": {},
   "outputs": [],
   "source": [
    "Total_units_by_formattype = data[['formattype','totalunits']]"
   ]
  },
  {
   "cell_type": "code",
   "execution_count": 49,
   "metadata": {},
   "outputs": [],
   "source": [
    "total_units = Total_units_by_formattype.groupby('formattype')"
   ]
  },
  {
   "cell_type": "code",
   "execution_count": 50,
   "metadata": {},
   "outputs": [
    {
     "data": {
      "text/plain": [
       "formattype    printprintprintprintprintprintprintprintprintp...\n",
       "totalunits                                                88360\n",
       "dtype: object"
      ]
     },
     "execution_count": 50,
     "metadata": {},
     "output_type": "execute_result"
    }
   ],
   "source": [
    "print_units = total_units.get_group('print').sum()\n",
    "print_units"
   ]
  },
  {
   "cell_type": "code",
   "execution_count": 51,
   "metadata": {},
   "outputs": [
    {
     "data": {
      "text/plain": [
       "formattype    ebookebookebookebookebookebookebookebookebooke...\n",
       "totalunits                                                24170\n",
       "dtype: object"
      ]
     },
     "execution_count": 51,
     "metadata": {},
     "output_type": "execute_result"
    }
   ],
   "source": [
    "ebook_units = total_units.get_group('ebook').sum()\n",
    "ebook_units"
   ]
  },
  {
   "cell_type": "code",
   "execution_count": 52,
   "metadata": {},
   "outputs": [
    {
     "data": {
      "text/plain": [
       "formattype    audioaudioaudioaudioaudioaudioaudioaudioaudioa...\n",
       "totalunits                                                19688\n",
       "dtype: object"
      ]
     },
     "execution_count": 52,
     "metadata": {},
     "output_type": "execute_result"
    }
   ],
   "source": [
    "audio_units = total_units.get_group('audio').sum()\n",
    "audio_units"
   ]
  },
  {
   "cell_type": "code",
   "execution_count": 53,
   "metadata": {},
   "outputs": [],
   "source": [
    "units_by_formattype =  pd.DataFrame(data= [88360, 24170,19688],index=['Print','Ebook','Audio'],columns=['Total_units'])"
   ]
  },
  {
   "cell_type": "code",
   "execution_count": 54,
   "metadata": {
    "scrolled": true
   },
   "outputs": [
    {
     "data": {
      "text/plain": [
       "<matplotlib.legend.Legend at 0x1db500ff6d8>"
      ]
     },
     "execution_count": 54,
     "metadata": {},
     "output_type": "execute_result"
    },
    {
     "data": {
      "image/png": "[encoded data removed]",
      "text/plain": [
       "<Figure size 1000x600 with 1 Axes>"
      ]
     },
     "metadata": {},
     "output_type": "display_data"
    }
   ],
   "source": [
    "#units by format type.\n",
    "plt.figure(dpi=100)\n",
    "explode_list= [0.0,0.1,0.2]\n",
    "color_list = ['lightblue','brown','green']\n",
    "units_by_formattype['Total_units'].plot(kind='pie',\n",
    "                         figsize=(10,6),\n",
    "                         autopct='(%1.2f%%)',\n",
    "                          startangle= 40,\n",
    "                      colors = color_list,\n",
    "                      pctdistance = 1.37,\n",
    "                      explode = explode_list)\n",
    "plt.title('units by formattype Distribution')\n",
    "plt.legend(units_by_formattype.index,loc = 'upper left')"
   ]
  },
  {
   "cell_type": "markdown",
   "metadata": {},
   "source": [
    "#### Most number of units are sold by print format type."
   ]
  },
  {
   "cell_type": "code",
   "execution_count": 55,
   "metadata": {},
   "outputs": [],
   "source": [
    "subscriptions = data[['subscriptionrevenue','totalrevenue']]"
   ]
  },
  {
   "cell_type": "code",
   "execution_count": 56,
   "metadata": {},
   "outputs": [
    {
     "data": {
      "text/plain": [
       "15452320"
      ]
     },
     "execution_count": 56,
     "metadata": {},
     "output_type": "execute_result"
    }
   ],
   "source": [
    "subscriptions['subscriptionrevenue'].sum()"
   ]
  },
  {
   "cell_type": "code",
   "execution_count": 57,
   "metadata": {},
   "outputs": [
    {
     "data": {
      "text/plain": [
       "124549452"
      ]
     },
     "execution_count": 57,
     "metadata": {},
     "output_type": "execute_result"
    }
   ],
   "source": [
    "subscriptions['totalrevenue'].sum()"
   ]
  },
  {
   "cell_type": "code",
   "execution_count": 58,
   "metadata": {},
   "outputs": [],
   "source": [
    "revenue_sub =  pd.DataFrame(data= [15452320, 124549452],index=['subscriptionrevenue','totalrevenue'],columns=['revenue'])"
   ]
  },
  {
   "cell_type": "code",
   "execution_count": 59,
   "metadata": {},
   "outputs": [],
   "source": [
    "revenue_sub  = revenue_sub.reset_index()\n",
    "revenue_sub.columns = ['comp','revenue']"
   ]
  },
  {
   "cell_type": "code",
   "execution_count": 60,
   "metadata": {},
   "outputs": [
    {
     "data": {
      "text/plain": [
       "<matplotlib.axes._subplots.AxesSubplot at 0x1db5098ceb8>"
      ]
     },
     "execution_count": 60,
     "metadata": {},
     "output_type": "execute_result"
    },
    {
     "data": {
      "image/png": "[encoded data removed]",
      "text/plain": [
       "<Figure size 432x288 with 1 Axes>"
      ]
     },
     "metadata": {
      "needs_background": "light"
     },
     "output_type": "display_data"
    }
   ],
   "source": [
    "#comparision between revenue by subscriptions and total_revenue.\n",
    "sns.barplot('comp','revenue',data = revenue_sub) "
   ]
  },
  {
   "cell_type": "code",
   "execution_count": 61,
   "metadata": {},
   "outputs": [],
   "source": [
    "units_sold_resp_entity = data[['entity','soldunits']]"
   ]
  },
  {
   "cell_type": "code",
   "execution_count": 62,
   "metadata": {},
   "outputs": [
    {
     "data": {
      "text/plain": [
       "entity       Alone in the darkAlone in the darkAlone in the...\n",
       "soldunits                                                11549\n",
       "dtype: object"
      ]
     },
     "execution_count": 62,
     "metadata": {},
     "output_type": "execute_result"
    }
   ],
   "source": [
    "units_sold_resp_entity[units_sold_resp_entity['entity']=='Alone in the dark'].sum()"
   ]
  },
  {
   "cell_type": "code",
   "execution_count": 63,
   "metadata": {},
   "outputs": [
    {
     "data": {
      "text/plain": [
       "entity       The Walking DeadThe Walking DeadThe Walking De...\n",
       "soldunits                                               110333\n",
       "dtype: object"
      ]
     },
     "execution_count": 63,
     "metadata": {},
     "output_type": "execute_result"
    }
   ],
   "source": [
    "units_sold_resp_entity[units_sold_resp_entity['entity']=='The Walking Dead'].sum()"
   ]
  },
  {
   "cell_type": "code",
   "execution_count": 64,
   "metadata": {},
   "outputs": [],
   "source": [
    "units_sold_resp_Entity =  pd.DataFrame(data= [11549, 110333],index=['Alone in the dark','The Walking Dead'],columns=['sold units'])"
   ]
  },
  {
   "cell_type": "code",
   "execution_count": 65,
   "metadata": {},
   "outputs": [],
   "source": [
    "units_sold_resp_Entity  = units_sold_resp_Entity.reset_index()\n",
    "units_sold_resp_Entity.columns = ['Entity','sold units']"
   ]
  },
  {
   "cell_type": "code",
   "execution_count": 66,
   "metadata": {},
   "outputs": [
    {
     "data": {
      "text/plain": [
       "<matplotlib.axes._subplots.AxesSubplot at 0x1db50a515c0>"
      ]
     },
     "execution_count": 66,
     "metadata": {},
     "output_type": "execute_result"
    },
    {
     "data": {
      "image/png": "[encoded data removed]",
      "text/plain": [
       "<Figure size 432x288 with 1 Axes>"
      ]
     },
     "metadata": {
      "needs_background": "light"
     },
     "output_type": "display_data"
    }
   ],
   "source": [
    "# Number of units sold by each entity.\n",
    "sns.barplot('Entity','sold units',data = units_sold_resp_Entity) "
   ]
  },
  {
   "cell_type": "code",
   "execution_count": 67,
   "metadata": {},
   "outputs": [],
   "source": [
    "revenue_resp_entity = data[['entity','totalrevenue']]"
   ]
  },
  {
   "cell_type": "code",
   "execution_count": 68,
   "metadata": {},
   "outputs": [
    {
     "data": {
      "text/plain": [
       "entity          Alone in the darkAlone in the darkAlone in the...\n",
       "totalrevenue                                             10302489\n",
       "dtype: object"
      ]
     },
     "execution_count": 68,
     "metadata": {},
     "output_type": "execute_result"
    }
   ],
   "source": [
    "revenue_resp_entity[revenue_resp_entity['entity']=='Alone in the dark'].sum()"
   ]
  },
  {
   "cell_type": "code",
   "execution_count": 69,
   "metadata": {},
   "outputs": [
    {
     "data": {
      "text/plain": [
       "entity          The Walking DeadThe Walking DeadThe Walking De...\n",
       "totalrevenue                                            114246963\n",
       "dtype: object"
      ]
     },
     "execution_count": 69,
     "metadata": {},
     "output_type": "execute_result"
    }
   ],
   "source": [
    "revenue_resp_entity[revenue_resp_entity['entity']=='The Walking Dead'].sum()"
   ]
  },
  {
   "cell_type": "code",
   "execution_count": 70,
   "metadata": {},
   "outputs": [],
   "source": [
    "revenue_resp_Entity =  pd.DataFrame(data= [10302489, 114246963],index=['Alone in the dark','The Walking Dead'],columns=['total revenue'])"
   ]
  },
  {
   "cell_type": "code",
   "execution_count": 71,
   "metadata": {
    "scrolled": true
   },
   "outputs": [
    {
     "data": {
      "text/plain": [
       "<matplotlib.legend.Legend at 0x1db50aa7f60>"
      ]
     },
     "execution_count": 71,
     "metadata": {},
     "output_type": "execute_result"
    },
    {
     "data": {
      "image/png": "[encoded data removed]",
      "text/plain": [
       "<Figure size 1000x600 with 1 Axes>"
      ]
     },
     "metadata": {},
     "output_type": "display_data"
    }
   ],
   "source": [
    "plt.figure(dpi=100)\n",
    "explode_list= [0.0,0.2]\n",
    "color_list = ['lightblue','brown']\n",
    "revenue_resp_Entity['total revenue'].plot(kind='pie',\n",
    "                         figsize=(10,6),\n",
    "                         autopct='(%1.2f%%)',\n",
    "                          startangle= 45,\n",
    "                      colors = color_list,\n",
    "                      pctdistance = 1.28,\n",
    "                      explode = explode_list)\n",
    "plt.title('Entity revenue Distribution')\n",
    "plt.legend(revenue_resp_Entity.index,loc = 'upper left')"
   ]
  },
  {
   "cell_type": "markdown",
   "metadata": {},
   "source": [
    "#### We can see that most of the revenue came from The walking Dead."
   ]
  },
  {
   "cell_type": "code",
   "execution_count": 72,
   "metadata": {},
   "outputs": [],
   "source": [
    "Amazon_revenue = data[['amazontotalrevenue','amazonlumpedpreordersubscriptionrevenue','amazonlumpedpreordersalesrevenue',\n",
    "                       'amazonsubscriptionrevenue','amazonlumpedpreorderrevenue','amazonaccruedpreordersubscriptionrevenue'\n",
    "                      ,'amazonaccruedpreorderrevenue','amazonsalesrevenue','amazonaccruedpreordersalesrevenue',\n",
    "                       'amazonpreordersubscriptionrevenue','amazonpreordersalesrevenue']]"
   ]
  },
  {
   "cell_type": "code",
   "execution_count": 73,
   "metadata": {},
   "outputs": [
    {
     "data": {
      "text/plain": [
       "amazontotalrevenue                          118191816\n",
       "amazonlumpedpreordersubscriptionrevenue             0\n",
       "amazonlumpedpreordersalesrevenue              1016836\n",
       "amazonsubscriptionrevenue                    15452320\n",
       "amazonlumpedpreorderrevenue                   1016836\n",
       "amazonaccruedpreordersubscriptionrevenue            0\n",
       "amazonaccruedpreorderrevenue                  1193792\n",
       "amazonsalesrevenue                          102739496\n",
       "amazonaccruedpreordersalesrevenue             1193792\n",
       "amazonpreordersubscriptionrevenue                   0\n",
       "amazonpreordersalesrevenue                    1016836\n",
       "dtype: int64"
      ]
     },
     "execution_count": 73,
     "metadata": {},
     "output_type": "execute_result"
    }
   ],
   "source": [
    "Amazon_revenue.sum()"
   ]
  },
  {
   "cell_type": "code",
   "execution_count": 74,
   "metadata": {},
   "outputs": [],
   "source": [
    "amazon_revenue =  pd.DataFrame(data= [118191816,0,1016836,15452320,1016836,0,1193792,102739496,1193792,0,1016836],index=['amazontotalrevenue','amazonlumpedpreordersubscriptionrevenue','amazonlumpedpreordersalesrevenue',\n",
    "                       'amazonsubscriptionrevenue','amazonlumpedpreorderrevenue','amazonaccruedpreordersubscriptionrevenue'\n",
    "                      ,'amazonaccruedpreorderrevenue','amazonsalesrevenue','amazonaccruedpreordersalesrevenue',\n",
    "                       'amazonpreordersubscriptionrevenue','amazonpreordersalesrevenue'],columns=['total revenue'])"
   ]
  },
  {
   "cell_type": "code",
   "execution_count": 75,
   "metadata": {},
   "outputs": [],
   "source": [
    "amazon_revenue  = amazon_revenue.reset_index()\n",
    "amazon_revenue.columns = ['Resources','total_revenue']"
   ]
  },
  {
   "cell_type": "code",
   "execution_count": 76,
   "metadata": {},
   "outputs": [
    {
     "data": {
      "text/plain": [
       "[Text(0, 0, 'amazontotalrevenue'),\n",
       " Text(0, 0, 'amazonlumpedpreordersubscriptionrevenue'),\n",
       " Text(0, 0, 'amazonlumpedpreordersalesrevenue'),\n",
       " Text(0, 0, 'amazonsubscriptionrevenue'),\n",
       " Text(0, 0, 'amazonlumpedpreorderrevenue'),\n",
       " Text(0, 0, 'amazonaccruedpreordersubscriptionrevenue'),\n",
       " Text(0, 0, 'amazonaccruedpreorderrevenue'),\n",
       " Text(0, 0, 'amazonsalesrevenue'),\n",
       " Text(0, 0, 'amazonaccruedpreordersalesrevenue'),\n",
       " Text(0, 0, 'amazonpreordersubscriptionrevenue'),\n",
       " Text(0, 0, 'amazonpreordersalesrevenue')]"
      ]
     },
     "execution_count": 76,
     "metadata": {},
     "output_type": "execute_result"
    },
    {
     "data": {
      "image/png": "[encoded data removed]",
      "text/plain": [
       "<Figure size 432x288 with 1 Axes>"
      ]
     },
     "metadata": {
      "needs_background": "light"
     },
     "output_type": "display_data"
    }
   ],
   "source": [
    "# total revenue generated by various types of resources at amazon.\n",
    "chart = sns.barplot('Resources','total_revenue',data = amazon_revenue) \n",
    "chart.set_xticklabels(chart.get_xticklabels(), rotation=45, horizontalalignment='right')"
   ]
  },
  {
   "cell_type": "markdown",
   "metadata": {},
   "source": [
    "#### Most of the amazon revenue came from amazonsubscriptionrevenue and amazonsalesrevenue."
   ]
  },
  {
   "cell_type": "code",
   "execution_count": 77,
   "metadata": {},
   "outputs": [],
   "source": [
    "Apple_revenue = data[['applepreorderrevenue','appleaccruedpreorderrevenue',\n",
    "                                   'applesalesrevenue','applelumpedpreorderrevenue']]"
   ]
  },
  {
   "cell_type": "code",
   "execution_count": 78,
   "metadata": {},
   "outputs": [
    {
     "data": {
      "text/plain": [
       "applepreorderrevenue                 0\n",
       "appleaccruedpreorderrevenue          0\n",
       "applesalesrevenue              6341652\n",
       "applelumpedpreorderrevenue           0\n",
       "dtype: int64"
      ]
     },
     "execution_count": 78,
     "metadata": {},
     "output_type": "execute_result"
    }
   ],
   "source": [
    "Apple_revenue.sum()"
   ]
  },
  {
   "cell_type": "code",
   "execution_count": 79,
   "metadata": {},
   "outputs": [],
   "source": [
    "apple_revenue = pd.DataFrame(data= [0,0,6341652,0],\n",
    "                             index=['applepreorderrevenue','appleaccruedpreorderrevenue',\n",
    "                                   'applesalesrevenue','applelumpedpreorderrevenue'],columns=['total revenue'])"
   ]
  },
  {
   "cell_type": "code",
   "execution_count": 80,
   "metadata": {},
   "outputs": [],
   "source": [
    "apple_revenue  = apple_revenue.reset_index()\n",
    "apple_revenue.columns = ['Resources','total_revenue']"
   ]
  },
  {
   "cell_type": "code",
   "execution_count": 81,
   "metadata": {},
   "outputs": [
    {
     "data": {
      "text/plain": [
       "[Text(0, 0, 'applepreorderrevenue'),\n",
       " Text(0, 0, 'appleaccruedpreorderrevenue'),\n",
       " Text(0, 0, 'applesalesrevenue'),\n",
       " Text(0, 0, 'applelumpedpreorderrevenue')]"
      ]
     },
     "execution_count": 81,
     "metadata": {},
     "output_type": "execute_result"
    },
    {
     "data": {
      "image/png": "[encoded data removed]",
      "text/plain": [
       "<Figure size 432x288 with 1 Axes>"
      ]
     },
     "metadata": {
      "needs_background": "light"
     },
     "output_type": "display_data"
    }
   ],
   "source": [
    "# total revenue generated by various types of resources at apple.\n",
    "chart = sns.barplot('Resources','total_revenue',data = apple_revenue) \n",
    "chart.set_xticklabels(chart.get_xticklabels(), rotation=45, horizontalalignment='right')"
   ]
  },
  {
   "cell_type": "markdown",
   "metadata": {},
   "source": [
    "#### All the apple revenue is from applesalesrevenue."
   ]
  },
  {
   "cell_type": "code",
   "execution_count": 82,
   "metadata": {},
   "outputs": [],
   "source": [
    "BarnesNoble_revenue = data[['barnesandnobleaccruedpreorderrevenue','barnesandnoblesalesrevenue','barnesandnoblelumpedpreorderrevenue']]"
   ]
  },
  {
   "cell_type": "code",
   "execution_count": 83,
   "metadata": {},
   "outputs": [
    {
     "data": {
      "text/plain": [
       "barnesandnobleaccruedpreorderrevenue        0\n",
       "barnesandnoblesalesrevenue              15984\n",
       "barnesandnoblelumpedpreorderrevenue         0\n",
       "dtype: int64"
      ]
     },
     "execution_count": 83,
     "metadata": {},
     "output_type": "execute_result"
    }
   ],
   "source": [
    "BarnesNoble_revenue.sum()"
   ]
  },
  {
   "cell_type": "code",
   "execution_count": 84,
   "metadata": {},
   "outputs": [],
   "source": [
    "barnesnoble_revenue = pd.DataFrame(data= [0,15984,0],\n",
    "                             index=['barnesandnobleaccruedpreorderrevenue','barnesandnoblesalesrevenue',\n",
    "                                    'barnesandnoblelumpedpreorderrevenue'],columns=['total revenue'])"
   ]
  },
  {
   "cell_type": "code",
   "execution_count": 85,
   "metadata": {},
   "outputs": [],
   "source": [
    "barnesnoble_revenue  = barnesnoble_revenue.reset_index()\n",
    "barnesnoble_revenue.columns = ['Resources','total_revenue']"
   ]
  },
  {
   "cell_type": "code",
   "execution_count": 86,
   "metadata": {},
   "outputs": [
    {
     "data": {
      "text/plain": [
       "[Text(0, 0, 'barnesandnobleaccruedpreorderrevenue'),\n",
       " Text(0, 0, 'barnesandnoblesalesrevenue'),\n",
       " Text(0, 0, 'barnesandnoblelumpedpreorderrevenue')]"
      ]
     },
     "execution_count": 86,
     "metadata": {},
     "output_type": "execute_result"
    },
    {
     "data": {
      "image/png": "[encoded data removed]",
      "text/plain": [
       "<Figure size 432x288 with 1 Axes>"
      ]
     },
     "metadata": {
      "needs_background": "light"
     },
     "output_type": "display_data"
    }
   ],
   "source": [
    "# total revenue generated by various types of resources at barnesandnoble.\n",
    "chart = sns.barplot('Resources','total_revenue',data = barnesnoble_revenue)\n",
    "chart.set_xticklabels(chart.get_xticklabels(), rotation=45, horizontalalignment='right')"
   ]
  },
  {
   "cell_type": "markdown",
   "metadata": {},
   "source": [
    " #### All the BarnesandNoble revenue is generated by barnesandnoblesalesrevenue."
   ]
  },
  {
   "cell_type": "code",
   "execution_count": 87,
   "metadata": {},
   "outputs": [],
   "source": [
    "Amazon_units = data[['amazontotalunits','amazonlumpedpreordersubscriptionunits',\n",
    "                       'amazonsubscriptionunits','amazonlumpedpreorderunits','amazonaccruedpreordersubscriptionunits'\n",
    "                      ,'amazonaccruedpreorderunits','amazonaccruedpreordersoldunits','amazonpreordersoldunits','amazonsoldunits']]"
   ]
  },
  {
   "cell_type": "code",
   "execution_count": 88,
   "metadata": {},
   "outputs": [
    {
     "data": {
      "text/plain": [
       "amazontotalunits                          125854\n",
       "amazonlumpedpreordersubscriptionunits          0\n",
       "amazonsubscriptionunits                    10336\n",
       "amazonlumpedpreorderunits                   1374\n",
       "amazonaccruedpreordersubscriptionunits         0\n",
       "amazonaccruedpreorderunits                  1538\n",
       "amazonaccruedpreordersoldunits              1538\n",
       "amazonpreordersoldunits                     1374\n",
       "amazonsoldunits                           115518\n",
       "dtype: int64"
      ]
     },
     "execution_count": 88,
     "metadata": {},
     "output_type": "execute_result"
    }
   ],
   "source": [
    "Amazon_units.sum()"
   ]
  },
  {
   "cell_type": "code",
   "execution_count": 89,
   "metadata": {},
   "outputs": [],
   "source": [
    "amazon_units =  pd.DataFrame(data= [125854,0,10336,1374,0,1538,1538,1374,115518],index=['amazontotalunits','amazonlumpedpreordersubscriptionunits',\n",
    "                       'amazonsubscriptionunits','amazonlumpedpreorderunits','amazonaccruedpreordersubscriptionunits'\n",
    "                      ,'amazonaccruedpreorderunits','amazonaccruedpreordersoldunits','amazonpreordersoldunits','amazonsoldunits'],columns=['no of units sold'])"
   ]
  },
  {
   "cell_type": "code",
   "execution_count": 90,
   "metadata": {},
   "outputs": [],
   "source": [
    "amazon_units  = amazon_units.reset_index()\n",
    "amazon_units.columns = ['Resources','no of units sold']"
   ]
  },
  {
   "cell_type": "code",
   "execution_count": 91,
   "metadata": {},
   "outputs": [
    {
     "data": {
      "text/plain": [
       "[Text(0, 0, 'amazontotalunits'),\n",
       " Text(0, 0, 'amazonlumpedpreordersubscriptionunits'),\n",
       " Text(0, 0, 'amazonsubscriptionunits'),\n",
       " Text(0, 0, 'amazonlumpedpreorderunits'),\n",
       " Text(0, 0, 'amazonaccruedpreordersubscriptionunits'),\n",
       " Text(0, 0, 'amazonaccruedpreorderunits'),\n",
       " Text(0, 0, 'amazonaccruedpreordersoldunits'),\n",
       " Text(0, 0, 'amazonpreordersoldunits'),\n",
       " Text(0, 0, 'amazonsoldunits')]"
      ]
     },
     "execution_count": 91,
     "metadata": {},
     "output_type": "execute_result"
    },
    {
     "data": {
      "image/png": "[encoded data removed]",
      "text/plain": [
       "<Figure size 432x288 with 1 Axes>"
      ]
     },
     "metadata": {
      "needs_background": "light"
     },
     "output_type": "display_data"
    }
   ],
   "source": [
    "# total units sold by various types of resources at amazon.\n",
    "chart = sns.barplot('Resources','no of units sold',data = amazon_units) \n",
    "chart.set_xticklabels(chart.get_xticklabels(), rotation=45, horizontalalignment='right')"
   ]
  },
  {
   "cell_type": "markdown",
   "metadata": {},
   "source": [
    "#### Most of the units are sold online compared to subscribtion units at amazon"
   ]
  },
  {
   "cell_type": "code",
   "execution_count": 92,
   "metadata": {},
   "outputs": [],
   "source": [
    "Apple_units = data[['applesoldunits','appleaccruedpreorderunits','applelumpedpreorderunits']]"
   ]
  },
  {
   "cell_type": "code",
   "execution_count": 93,
   "metadata": {},
   "outputs": [
    {
     "data": {
      "text/plain": [
       "applesoldunits               6348\n",
       "appleaccruedpreorderunits       0\n",
       "applelumpedpreorderunits        0\n",
       "dtype: int64"
      ]
     },
     "execution_count": 93,
     "metadata": {},
     "output_type": "execute_result"
    }
   ],
   "source": [
    "Apple_units.sum()"
   ]
  },
  {
   "cell_type": "code",
   "execution_count": 94,
   "metadata": {},
   "outputs": [],
   "source": [
    "apple_units = pd.DataFrame(data= [6348,0,0],\n",
    "                             index=['applesoldunits','appleaccruedpreorderunits','applelumpedpreorderunits']\n",
    "                           ,columns=['No of units sold'])"
   ]
  },
  {
   "cell_type": "code",
   "execution_count": 95,
   "metadata": {},
   "outputs": [],
   "source": [
    "apple_units  = apple_units.reset_index()\n",
    "apple_units.columns = ['Resources','no of units sold']"
   ]
  },
  {
   "cell_type": "code",
   "execution_count": 96,
   "metadata": {},
   "outputs": [
    {
     "data": {
      "text/plain": [
       "[Text(0, 0, 'applesoldunits'),\n",
       " Text(0, 0, 'appleaccruedpreorderunits'),\n",
       " Text(0, 0, 'applelumpedpreorderunits')]"
      ]
     },
     "execution_count": 96,
     "metadata": {},
     "output_type": "execute_result"
    },
    {
     "data": {
      "image/png": "[encoded data removed]",
      "text/plain": [
       "<Figure size 432x288 with 1 Axes>"
      ]
     },
     "metadata": {
      "needs_background": "light"
     },
     "output_type": "display_data"
    }
   ],
   "source": [
    "# total units sold by various types of resources at apple.\n",
    "chart = sns.barplot('Resources','no of units sold',data = apple_units) \n",
    "chart.set_xticklabels(chart.get_xticklabels(), rotation=45, horizontalalignment='right')"
   ]
  },
  {
   "cell_type": "markdown",
   "metadata": {},
   "source": [
    "#### No units were preordered at apple."
   ]
  },
  {
   "cell_type": "code",
   "execution_count": 97,
   "metadata": {},
   "outputs": [],
   "source": [
    "revenue_by_format_The_walking_dead = The_walking_dead[['formattype','totalrevenue']]"
   ]
  },
  {
   "cell_type": "code",
   "execution_count": 98,
   "metadata": {
    "scrolled": true
   },
   "outputs": [
    {
     "data": {
      "text/plain": [
       "formattype      printprintprintprintprintprintprintprintprintp...\n",
       "totalrevenue                                             70174946\n",
       "dtype: object"
      ]
     },
     "execution_count": 98,
     "metadata": {},
     "output_type": "execute_result"
    }
   ],
   "source": [
    "revenue_for_print = revenue_by_format_The_walking_dead[revenue_by_format_The_walking_dead['formattype']=='print'].sum()\n",
    "revenue_for_print"
   ]
  },
  {
   "cell_type": "code",
   "execution_count": 99,
   "metadata": {},
   "outputs": [
    {
     "data": {
      "text/plain": [
       "formattype      ebookebookebookebookebookebookebookebookebooke...\n",
       "totalrevenue                                             15669751\n",
       "dtype: object"
      ]
     },
     "execution_count": 99,
     "metadata": {},
     "output_type": "execute_result"
    }
   ],
   "source": [
    "revenue_for_ebook = revenue_by_format_The_walking_dead[revenue_by_format_The_walking_dead['formattype']=='ebook'].sum()\n",
    "revenue_for_ebook"
   ]
  },
  {
   "cell_type": "code",
   "execution_count": 100,
   "metadata": {},
   "outputs": [
    {
     "data": {
      "text/plain": [
       "formattype      audioaudioaudioaudioaudioaudioaudioaudioaudioa...\n",
       "totalrevenue                                             28402266\n",
       "dtype: object"
      ]
     },
     "execution_count": 100,
     "metadata": {},
     "output_type": "execute_result"
    }
   ],
   "source": [
    "revenue_for_audio = revenue_by_format_The_walking_dead[revenue_by_format_The_walking_dead['formattype']=='audio'].sum()\n",
    "revenue_for_audio"
   ]
  },
  {
   "cell_type": "code",
   "execution_count": 101,
   "metadata": {},
   "outputs": [],
   "source": [
    "Revenue_byformat_The_walking_dead = pd.DataFrame(data= [70174946,15669751,28402266],\n",
    "                             index=['revenue_for_print','revenue_for_ebook','revenue_for_audio']\n",
    "                           ,columns=['Revenue'])"
   ]
  },
  {
   "cell_type": "code",
   "execution_count": 102,
   "metadata": {
    "scrolled": true
   },
   "outputs": [
    {
     "data": {
      "text/plain": [
       "<matplotlib.legend.Legend at 0x1db51e9dd68>"
      ]
     },
     "execution_count": 102,
     "metadata": {},
     "output_type": "execute_result"
    },
    {
     "data": {
      "image/png": "[encoded data removed]",
      "text/plain": [
       "<Figure size 1000x600 with 1 Axes>"
      ]
     },
     "metadata": {},
     "output_type": "display_data"
    }
   ],
   "source": [
    "#Revenue by format type for The walking Dead\n",
    "plt.figure(dpi=100)\n",
    "explode_list= [0.0,0.05,0.1]\n",
    "color_list = ['lightblue','brown','green']\n",
    "Revenue_byformat_The_walking_dead['Revenue'].plot(kind='pie',\n",
    "                         figsize=(10,6),\n",
    "                         autopct='(%1.1f%%)',\n",
    "                          startangle= 60,\n",
    "                      colors = color_list,\n",
    "                      pctdistance = 1.58,\n",
    "                      explode = explode_list)\n",
    "plt.title('Revenue by formattype Distribution of The Walking Dead')\n",
    "plt.legend(Revenue_byformat_The_walking_dead.index,loc = 'best')"
   ]
  },
  {
   "cell_type": "markdown",
   "metadata": {},
   "source": [
    "#### Most of the Revenue of The Walking dead came from print formattype."
   ]
  },
  {
   "cell_type": "code",
   "execution_count": 103,
   "metadata": {},
   "outputs": [],
   "source": [
    "revenue_by_format_Alone_in_the_dark= Alone_in_the_dark[['formattype','totalrevenue']]"
   ]
  },
  {
   "cell_type": "code",
   "execution_count": 104,
   "metadata": {},
   "outputs": [
    {
     "data": {
      "text/plain": [
       "formattype      printprintprintprintprintprintprintprintprintp...\n",
       "totalrevenue                                              2269378\n",
       "dtype: object"
      ]
     },
     "execution_count": 104,
     "metadata": {},
     "output_type": "execute_result"
    }
   ],
   "source": [
    "revenue_for_print = revenue_by_format_Alone_in_the_dark[revenue_by_format_Alone_in_the_dark['formattype']=='print'].sum()\n",
    "revenue_for_print"
   ]
  },
  {
   "cell_type": "code",
   "execution_count": 105,
   "metadata": {},
   "outputs": [
    {
     "data": {
      "text/plain": [
       "formattype      ebookebookebookebookebookebookebookebookebooke...\n",
       "totalrevenue                                              5966299\n",
       "dtype: object"
      ]
     },
     "execution_count": 105,
     "metadata": {},
     "output_type": "execute_result"
    }
   ],
   "source": [
    "revenue_for_ebook = revenue_by_format_Alone_in_the_dark[revenue_by_format_Alone_in_the_dark['formattype']=='ebook'].sum()\n",
    "revenue_for_ebook"
   ]
  },
  {
   "cell_type": "code",
   "execution_count": 106,
   "metadata": {},
   "outputs": [
    {
     "data": {
      "text/plain": [
       "formattype      audioaudioaudioaudioaudioaudioaudioaudioaudioa...\n",
       "totalrevenue                                              2066812\n",
       "dtype: object"
      ]
     },
     "execution_count": 106,
     "metadata": {},
     "output_type": "execute_result"
    }
   ],
   "source": [
    "revenue_for_audio = revenue_by_format_Alone_in_the_dark[revenue_by_format_Alone_in_the_dark['formattype']=='audio'].sum()\n",
    "revenue_for_audio"
   ]
  },
  {
   "cell_type": "code",
   "execution_count": 107,
   "metadata": {},
   "outputs": [],
   "source": [
    "Revenue_byformat_Alone_in_the_dark = pd.DataFrame(data= [2269378,5966299,2066812],\n",
    "                             index=['revenue_for_print','revenue_for_ebook','revenue_for_audio']\n",
    "                           ,columns=['Revenue'])"
   ]
  },
  {
   "cell_type": "code",
   "execution_count": 108,
   "metadata": {},
   "outputs": [
    {
     "data": {
      "text/plain": [
       "<matplotlib.legend.Legend at 0x1db51ef42e8>"
      ]
     },
     "execution_count": 108,
     "metadata": {},
     "output_type": "execute_result"
    },
    {
     "data": {
      "image/png": "[encoded data removed]",
      "text/plain": [
       "<Figure size 1000x600 with 1 Axes>"
      ]
     },
     "metadata": {},
     "output_type": "display_data"
    }
   ],
   "source": [
    "#revenue by format type for Alone in the Dark\n",
    "plt.figure(dpi=100)\n",
    "explode_list= [0.0,0.05,0.1]\n",
    "color_list = ['lightblue','brown','green']\n",
    "Revenue_byformat_Alone_in_the_dark['Revenue'].plot(kind='pie',\n",
    "                         figsize=(10,6),\n",
    "                         autopct='(%1.1f%%)',\n",
    "                          startangle= 20,\n",
    "                      colors = color_list,\n",
    "                      pctdistance = 1.38,\n",
    "                      explode = explode_list)\n",
    "plt.title('Revenue by formattype Distribution of Alone in the dark')\n",
    "plt.legend(Revenue_byformat_Alone_in_the_dark.index,loc = 'upper left')"
   ]
  },
  {
   "cell_type": "markdown",
   "metadata": {},
   "source": [
    "#### Most of the Revenue of Alone in the Dark came from ebook format type."
   ]
  },
  {
   "cell_type": "markdown",
   "metadata": {},
   "source": [
    "* I can forecast the sell of units or revenue generated by the 2 types of entities given in the dataset by their formattype using method such as moving average.Because, I feel that simple method such as moving average would be most ideal for this type of data set.\n",
    "\n",
    "* However, due to constraint of time I could only perform the analysis part."
   ]
  },
  {
   "cell_type": "code",
   "execution_count": null,
   "metadata": {},
   "outputs": [],
   "source": []
  }
 ],
 "metadata": {
  "kernelspec": {
   "display_name": "Python 3",
   "language": "python",
   "name": "python3"
  },
  "language_info": {
   "codemirror_mode": {
    "name": "ipython",
    "version": 3
   },
   "file_extension": ".py",
   "mimetype": "text/x-python",
   "name": "python",
   "nbconvert_exporter": "python",
   "pygments_lexer": "ipython3",
   "version": "3.7.3"
  }
 },
 "nbformat": 4,
 "nbformat_minor": 4
}
